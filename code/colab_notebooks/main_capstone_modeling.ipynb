{
  "nbformat": 4,
  "nbformat_minor": 0,
  "metadata": {
    "colab": {
      "name": "main_capstone_modeling.ipynb",
      "provenance": [],
      "collapsed_sections": []
    },
    "kernelspec": {
      "display_name": "Python 3",
      "name": "python3"
    },
    "language_info": {
      "name": "python"
    }
  },
  "cells": [
    {
      "cell_type": "markdown",
      "metadata": {
        "id": "Uo7R1zvoX6z9"
      },
      "source": [
        "## View in Colab for latest version:\n",
        "\n",
        "<a href=\"https://colab.research.google.com/drive/19mq1tMp_8j7vsq2t2RsrUCI4z2xqaoSQ?usp=sharing\" target=\"_parent\"><img src=\"https://colab.research.google.com/assets/colab-badge.svg\" alt=\"Open In Colab\"/></a>"
      ]
    },
    {
      "cell_type": "markdown",
      "metadata": {
        "id": "78rvVdgwhzRc"
      },
      "source": [
        "#### Various Imports"
      ]
    },
    {
      "cell_type": "code",
      "metadata": {
        "id": "9A2-nCfKk0nk"
      },
      "source": [
        "import xgboost as xgb\n",
        "import matplotlib.pyplot as plt\n",
        "from numpy import loadtxt\n",
        "import numpy as np\n",
        "import pandas as pd\n",
        "from xgboost import XGBClassifier \n",
        "from sklearn.model_selection import train_test_split\n",
        "from sklearn.model_selection import cross_val_score\n",
        "from sklearn import metrics\n",
        "from sklearn import preprocessing\n",
        "import statsmodels.api as sm\n",
        "import pandas.util.testing as tm\n",
        "import matplotlib.pyplot as plt\n",
        "import numpy as np\n",
        "import scipy.sparse\n",
        "from sklearn.linear_model import LogisticRegression\n",
        "from sklearn.linear_model import LinearRegression\n",
        "from sklearn.ensemble import RandomForestClassifier\n",
        "from sklearn.ensemble import BaggingClassifier\n",
        "from sklearn.tree import DecisionTreeClassifier\n",
        "from sklearn.naive_bayes import BernoulliNB\n",
        "from sklearn.naive_bayes import MultinomialNB\n",
        "from sklearn.naive_bayes import GaussianNB\n",
        "from sklearn.ensemble import AdaBoostClassifier\n",
        "from sklearn.preprocessing import OneHotEncoder\n",
        "from sklearn.preprocessing import OrdinalEncoder\n",
        "import re"
      ],
      "execution_count": 112,
      "outputs": []
    },
    {
      "cell_type": "markdown",
      "metadata": {
        "id": "P4Z1hSlw_h_p"
      },
      "source": [
        "# Download Data"
      ]
    },
    {
      "cell_type": "code",
      "metadata": {
        "id": "T6i3VOwuAAsR"
      },
      "source": [
        "# Authenticate\n",
        "from google.colab import auth\n",
        "auth.authenticate_user()"
      ],
      "execution_count": 107,
      "outputs": []
    },
    {
      "cell_type": "code",
      "metadata": {
        "id": "kGyoQLzbABaL"
      },
      "source": [
        "# Install Google SDK\n",
        "!curl https://sdk.cloud.google.com | bash"
      ],
      "execution_count": null,
      "outputs": []
    },
    {
      "cell_type": "code",
      "metadata": {
        "colab": {
          "base_uri": "https://localhost:8080/"
        },
        "id": "ohoqCVNHADlf",
        "outputId": "3de9c62d-e284-4ef0-c601-ca9f5f24b286"
      },
      "source": [
        "# Initialize\n",
        "!gcloud init"
      ],
      "execution_count": 108,
      "outputs": [
        {
          "output_type": "stream",
          "text": [
            "Welcome! This command will take you through the configuration of gcloud.\n",
            "\n",
            "Settings from your current configuration [default] are:\n",
            "component_manager:\n",
            "  disable_update_check: 'True'\n",
            "compute:\n",
            "  gce_metadata_read_timeout_sec: '0'\n",
            "core:\n",
            "  account: jearcher@berkeley.edu\n",
            "  project: capstone-project-home\n",
            "\n",
            "Pick configuration to use:\n",
            " [1] Re-initialize this configuration [default] with new settings \n",
            " [2] Create a new configuration\n",
            "Please enter your numeric choice:  \n",
            "\n",
            "Command killed by keyboard interrupt\n",
            "\n",
            "^C\n"
          ],
          "name": "stdout"
        }
      ]
    },
    {
      "cell_type": "code",
      "metadata": {
        "colab": {
          "base_uri": "https://localhost:8080/"
        },
        "id": "V4Y-9ytp_hVN",
        "outputId": "7de8a939-6e0a-47a5-a6f8-3bd2a5c3ad0e"
      },
      "source": [
        "# Public data from bucket\n",
        "!gsutil cp gs://project-home-public/data/processed/ca.csv ."
      ],
      "execution_count": 114,
      "outputs": [
        {
          "output_type": "stream",
          "text": [
            "Copying gs://project-home-public/data/processed/ca.csv...\n",
            "/ [1 files][ 17.8 MiB/ 17.8 MiB]                                                \n",
            "Operation completed over 1 objects/17.8 MiB.                                     \n"
          ],
          "name": "stdout"
        }
      ]
    },
    {
      "cell_type": "code",
      "metadata": {
        "id": "x4nz6h2lk2-t",
        "colab": {
          "base_uri": "https://localhost:8080/"
        },
        "outputId": "09918c93-6f04-4f9f-95a6-61712755d55a"
      },
      "source": [
        "# Training data include private eviction data\n",
        "# Please contact the authors of Project Home for data questions\n",
        "# Project Home does not have the authority to publish private data\n",
        "df = pd.read_csv('/content/non_ca.csv')\n",
        "df.shape"
      ],
      "execution_count": 137,
      "outputs": [
        {
          "output_type": "execute_result",
          "data": {
            "text/plain": [
              "(10851, 487)"
            ]
          },
          "metadata": {
            "tags": []
          },
          "execution_count": 137
        }
      ]
    },
    {
      "cell_type": "markdown",
      "metadata": {
        "id": "jhhxe4uclfcu"
      },
      "source": [
        "# View the outcome classses"
      ]
    },
    {
      "cell_type": "markdown",
      "metadata": {
        "id": "R5Y5uCK_V5AL"
      },
      "source": [
        "## Continuous outcome"
      ]
    },
    {
      "cell_type": "code",
      "metadata": {
        "colab": {
          "base_uri": "https://localhost:8080/"
        },
        "id": "ZjsQJnKzZtPp",
        "outputId": "104696c7-a5f0-4d4a-83c2-20530e373dde"
      },
      "source": [
        "sum(df['ev_rate'].isna())"
      ],
      "execution_count": 116,
      "outputs": [
        {
          "output_type": "execute_result",
          "data": {
            "text/plain": [
              "0"
            ]
          },
          "metadata": {
            "tags": []
          },
          "execution_count": 116
        }
      ]
    },
    {
      "cell_type": "code",
      "metadata": {
        "colab": {
          "base_uri": "https://localhost:8080/"
        },
        "id": "1GxefeGKNS9m",
        "outputId": "53effe24-2268-4abb-ea36-6e407b3c38e3"
      },
      "source": [
        "# Numerical outcomes\n",
        "df['ev_rate'].describe()"
      ],
      "execution_count": 117,
      "outputs": [
        {
          "output_type": "execute_result",
          "data": {
            "text/plain": [
              "count    10851.000000\n",
              "mean         0.033399\n",
              "std          0.150801\n",
              "min          0.000000\n",
              "25%          0.008561\n",
              "50%          0.019802\n",
              "75%          0.039828\n",
              "max         12.000000\n",
              "Name: ev_rate, dtype: float64"
            ]
          },
          "metadata": {
            "tags": []
          },
          "execution_count": 117
        }
      ]
    },
    {
      "cell_type": "markdown",
      "metadata": {
        "id": "IeXmlvMuWE1f"
      },
      "source": [
        "## Categorical outcome"
      ]
    },
    {
      "cell_type": "code",
      "metadata": {
        "colab": {
          "base_uri": "https://localhost:8080/"
        },
        "id": "z3oUeLoXxjrB",
        "outputId": "e31abd38-6c2b-439e-816d-b08ff94336c2"
      },
      "source": [
        "df['ev_label'].value_counts()"
      ],
      "execution_count": 118,
      "outputs": [
        {
          "output_type": "execute_result",
          "data": {
            "text/plain": [
              "Under 2%    5462\n",
              "2%-5%       3395\n",
              "Over 5%     1747\n",
              "Name: ev_label, dtype: int64"
            ]
          },
          "metadata": {
            "tags": []
          },
          "execution_count": 118
        }
      ]
    },
    {
      "cell_type": "markdown",
      "metadata": {
        "id": "bJ65m_jPWgeI"
      },
      "source": [
        "## Numerical Bins"
      ]
    },
    {
      "cell_type": "code",
      "metadata": {
        "colab": {
          "base_uri": "https://localhost:8080/"
        },
        "id": "ur3PoIy8a-yG",
        "outputId": "50f80555-dd72-4ca9-a7af-7fed8c71d319"
      },
      "source": [
        "# Ordinal encoded\n",
        "\n",
        "df['ord_bin'].value_counts(sort=False)"
      ],
      "execution_count": 121,
      "outputs": [
        {
          "output_type": "execute_result",
          "data": {
            "text/plain": [
              "1    5452\n",
              "2    3405\n",
              "3    1994\n",
              "Name: ord_bin, dtype: int64"
            ]
          },
          "metadata": {
            "tags": []
          },
          "execution_count": 121
        }
      ]
    },
    {
      "cell_type": "code",
      "metadata": {
        "colab": {
          "base_uri": "https://localhost:8080/"
        },
        "id": "auHZn2qOaIvA",
        "outputId": "78419b0c-c33d-41f3-c70c-60113ec1e1b8"
      },
      "source": [
        "# One hot encoded\n",
        "\n",
        "print('Under 2%', sum(df['Under 2%']), '\\n',\n",
        "      '2%-5%', sum(df['2%-5%']), '\\n',\n",
        "      'Over 5%', sum(df['Over 5%'])\n",
        "      )"
      ],
      "execution_count": 122,
      "outputs": [
        {
          "output_type": "stream",
          "text": [
            "Under 2% 5452 \n",
            " 2%-5% 3405 \n",
            " Over 5% 1994\n"
          ],
          "name": "stdout"
        }
      ]
    },
    {
      "cell_type": "markdown",
      "metadata": {
        "id": "sVjx9lUYA4BE"
      },
      "source": [
        "# Set up Features, split Train and Dev"
      ]
    },
    {
      "cell_type": "markdown",
      "metadata": {
        "id": "MRRkfQMZWMPm"
      },
      "source": [
        "## Remove columns"
      ]
    },
    {
      "cell_type": "code",
      "metadata": {
        "id": "AhUeT84y3FZI"
      },
      "source": [
        "labeled_data = df.drop(columns=['Unnamed: 0'])"
      ],
      "execution_count": 138,
      "outputs": []
    },
    {
      "cell_type": "code",
      "metadata": {
        "colab": {
          "base_uri": "https://localhost:8080/",
          "height": 143
        },
        "id": "AhVL2F-WmUhM",
        "outputId": "43d4f63f-a8f1-40f1-d0a4-257ef16f734c"
      },
      "source": [
        "labeled_data.head(1)"
      ],
      "execution_count": 139,
      "outputs": [
        {
          "output_type": "execute_result",
          "data": {
            "text/html": [
              "<div>\n",
              "<style scoped>\n",
              "    .dataframe tbody tr th:only-of-type {\n",
              "        vertical-align: middle;\n",
              "    }\n",
              "\n",
              "    .dataframe tbody tr th {\n",
              "        vertical-align: top;\n",
              "    }\n",
              "\n",
              "    .dataframe thead th {\n",
              "        text-align: right;\n",
              "    }\n",
              "</style>\n",
              "<table border=\"1\" class=\"dataframe\">\n",
              "  <thead>\n",
              "    <tr style=\"text-align: right;\">\n",
              "      <th></th>\n",
              "      <th>GEOID</th>\n",
              "      <th>HHIncTenOwn</th>\n",
              "      <th>HHIncTenOwn_10</th>\n",
              "      <th>HHIncTenOwn_100</th>\n",
              "      <th>HHIncTenOwn_15</th>\n",
              "      <th>HHIncTenOwn_150</th>\n",
              "      <th>HHIncTenOwn_151</th>\n",
              "      <th>HHIncTenOwn_20</th>\n",
              "      <th>HHIncTenOwn_25</th>\n",
              "      <th>HHIncTenOwn_35</th>\n",
              "      <th>HHIncTenOwn_5</th>\n",
              "      <th>HHIncTenOwn_50</th>\n",
              "      <th>HHIncTenOwn_75</th>\n",
              "      <th>HHIncTenRent</th>\n",
              "      <th>HHIncTenRent_10</th>\n",
              "      <th>HHIncTenRent_100</th>\n",
              "      <th>HHIncTenRent_15</th>\n",
              "      <th>HHIncTenRent_150</th>\n",
              "      <th>HHIncTenRent_151</th>\n",
              "      <th>HHIncTenRent_20</th>\n",
              "      <th>HHIncTenRent_25</th>\n",
              "      <th>HHIncTenRent_35</th>\n",
              "      <th>HHIncTenRent_5</th>\n",
              "      <th>HHIncTenRent_50</th>\n",
              "      <th>HHIncTenRent_75</th>\n",
              "      <th>HHIncTen_Total</th>\n",
              "      <th>HHInc_10</th>\n",
              "      <th>HHInc_100</th>\n",
              "      <th>HHInc_125</th>\n",
              "      <th>HHInc_15</th>\n",
              "      <th>HHInc_150</th>\n",
              "      <th>HHInc_20</th>\n",
              "      <th>HHInc_200</th>\n",
              "      <th>HHInc_25</th>\n",
              "      <th>HHInc_250</th>\n",
              "      <th>HHInc_30</th>\n",
              "      <th>HHInc_35</th>\n",
              "      <th>HHInc_40</th>\n",
              "      <th>HHInc_45</th>\n",
              "      <th>HHInc_50</th>\n",
              "      <th>...</th>\n",
              "      <th>County_60679</th>\n",
              "      <th>County_60690</th>\n",
              "      <th>County_60710</th>\n",
              "      <th>County_60719</th>\n",
              "      <th>County_60730</th>\n",
              "      <th>County_60739</th>\n",
              "      <th>County_60770</th>\n",
              "      <th>County_60790</th>\n",
              "      <th>County_60799</th>\n",
              "      <th>County_60816</th>\n",
              "      <th>County_60819</th>\n",
              "      <th>County_60830</th>\n",
              "      <th>County_60839</th>\n",
              "      <th>County_60855</th>\n",
              "      <th>County_60871</th>\n",
              "      <th>County_60879</th>\n",
              "      <th>County_60890</th>\n",
              "      <th>County_60910</th>\n",
              "      <th>County_60930</th>\n",
              "      <th>County_60952</th>\n",
              "      <th>County_60959</th>\n",
              "      <th>County_60971</th>\n",
              "      <th>County_60979</th>\n",
              "      <th>County_60990</th>\n",
              "      <th>County_61010</th>\n",
              "      <th>County_61030</th>\n",
              "      <th>County_61050</th>\n",
              "      <th>County_61070</th>\n",
              "      <th>County_61090</th>\n",
              "      <th>County_61099</th>\n",
              "      <th>County_61110</th>\n",
              "      <th>County_61119</th>\n",
              "      <th>County_61130</th>\n",
              "      <th>County_61150</th>\n",
              "      <th>ev_rate</th>\n",
              "      <th>ev_label</th>\n",
              "      <th>ord_bin</th>\n",
              "      <th>Under 2%</th>\n",
              "      <th>2%-5%</th>\n",
              "      <th>Over 5%</th>\n",
              "    </tr>\n",
              "  </thead>\n",
              "  <tbody>\n",
              "    <tr>\n",
              "      <th>0</th>\n",
              "      <td>8001007801</td>\n",
              "      <td>165</td>\n",
              "      <td>25</td>\n",
              "      <td>46</td>\n",
              "      <td>0</td>\n",
              "      <td>0</td>\n",
              "      <td>0</td>\n",
              "      <td>0</td>\n",
              "      <td>9</td>\n",
              "      <td>17</td>\n",
              "      <td>0</td>\n",
              "      <td>49</td>\n",
              "      <td>19</td>\n",
              "      <td>1111</td>\n",
              "      <td>108</td>\n",
              "      <td>43</td>\n",
              "      <td>124</td>\n",
              "      <td>9</td>\n",
              "      <td>11</td>\n",
              "      <td>198</td>\n",
              "      <td>132</td>\n",
              "      <td>168</td>\n",
              "      <td>38</td>\n",
              "      <td>169</td>\n",
              "      <td>111</td>\n",
              "      <td>1276</td>\n",
              "      <td>171</td>\n",
              "      <td>89</td>\n",
              "      <td>9</td>\n",
              "      <td>124</td>\n",
              "      <td>0</td>\n",
              "      <td>198</td>\n",
              "      <td>4</td>\n",
              "      <td>141</td>\n",
              "      <td>7</td>\n",
              "      <td>126</td>\n",
              "      <td>59</td>\n",
              "      <td>75</td>\n",
              "      <td>48</td>\n",
              "      <td>95</td>\n",
              "      <td>...</td>\n",
              "      <td>0</td>\n",
              "      <td>0</td>\n",
              "      <td>0</td>\n",
              "      <td>0</td>\n",
              "      <td>0</td>\n",
              "      <td>0</td>\n",
              "      <td>0</td>\n",
              "      <td>0</td>\n",
              "      <td>0</td>\n",
              "      <td>0</td>\n",
              "      <td>0</td>\n",
              "      <td>0</td>\n",
              "      <td>0</td>\n",
              "      <td>0</td>\n",
              "      <td>0</td>\n",
              "      <td>0</td>\n",
              "      <td>0</td>\n",
              "      <td>0</td>\n",
              "      <td>0</td>\n",
              "      <td>0</td>\n",
              "      <td>0</td>\n",
              "      <td>0</td>\n",
              "      <td>0</td>\n",
              "      <td>0</td>\n",
              "      <td>0</td>\n",
              "      <td>0</td>\n",
              "      <td>0</td>\n",
              "      <td>0</td>\n",
              "      <td>0</td>\n",
              "      <td>0</td>\n",
              "      <td>0</td>\n",
              "      <td>0</td>\n",
              "      <td>0</td>\n",
              "      <td>0</td>\n",
              "      <td>0.033679</td>\n",
              "      <td>2%-5%</td>\n",
              "      <td>2</td>\n",
              "      <td>0</td>\n",
              "      <td>1</td>\n",
              "      <td>0</td>\n",
              "    </tr>\n",
              "  </tbody>\n",
              "</table>\n",
              "<p>1 rows × 486 columns</p>\n",
              "</div>"
            ],
            "text/plain": [
              "        GEOID  HHIncTenOwn  HHIncTenOwn_10  ...  Under 2%  2%-5%  Over 5%\n",
              "0  8001007801          165              25  ...         0      1        0\n",
              "\n",
              "[1 rows x 486 columns]"
            ]
          },
          "metadata": {
            "tags": []
          },
          "execution_count": 139
        }
      ]
    },
    {
      "cell_type": "code",
      "metadata": {
        "id": "LTkF11Q60F3S"
      },
      "source": [
        "unwanted_features = ['ev_label', 'ev_rate', 'ord_bin', 'Under 2%', '2%-5%', 'Over 5%', 'GEOID'] \n",
        "\n",
        "full_features = [col for col in labeled_data.columns.to_list() if col not in unwanted_features]\n"
      ],
      "execution_count": 140,
      "outputs": []
    },
    {
      "cell_type": "code",
      "metadata": {
        "colab": {
          "base_uri": "https://localhost:8080/"
        },
        "id": "-gEakHGH01aY",
        "outputId": "c57f1882-37de-4184-9c31-f1dc4546b527"
      },
      "source": [
        "len(full_features)"
      ],
      "execution_count": 141,
      "outputs": [
        {
          "output_type": "execute_result",
          "data": {
            "text/plain": [
              "479"
            ]
          },
          "metadata": {
            "tags": []
          },
          "execution_count": 141
        }
      ]
    },
    {
      "cell_type": "code",
      "metadata": {
        "colab": {
          "base_uri": "https://localhost:8080/"
        },
        "id": "UIKQbDDz8XoB",
        "outputId": "d04feab6-91a5-49fd-a0f0-c35f0da7bddb"
      },
      "source": [
        "len(labeled_data.columns.to_list())"
      ],
      "execution_count": 142,
      "outputs": [
        {
          "output_type": "execute_result",
          "data": {
            "text/plain": [
              "486"
            ]
          },
          "metadata": {
            "tags": []
          },
          "execution_count": 142
        }
      ]
    },
    {
      "cell_type": "code",
      "metadata": {
        "id": "60BEk-WT2J2V"
      },
      "source": [
        "# Shuffle data into training and testing\n",
        "np.random.seed(1440)\n",
        "\n",
        "train_data, dev_data = train_test_split(labeled_data.dropna(), train_size=.80)"
      ],
      "execution_count": 143,
      "outputs": []
    },
    {
      "cell_type": "code",
      "metadata": {
        "id": "9F_qZ_n3Nvfz"
      },
      "source": [
        "# numerical outcomes for neural nets\n",
        "train_ev_rate, dev_ev_rate = train_data['ev_rate'], dev_data['ev_rate']\n",
        "train_ord_label, dev_ord_label = train_data['ord_bin'], dev_data['ord_bin']\n",
        "\n",
        "# How to split off one-hot encodings? \n",
        "train_dummy_labels, dev_dummy_labels = train_data[['Under 2%', '2%-5%', 'Over 5%']], dev_data[['Under 2%', '2%-5%', 'Over 5%']]"
      ],
      "execution_count": 144,
      "outputs": []
    },
    {
      "cell_type": "code",
      "metadata": {
        "colab": {
          "base_uri": "https://localhost:8080/"
        },
        "id": "dMrTctLO2Ucf",
        "outputId": "e9825be4-f49a-492b-9143-fcac030e9fbd"
      },
      "source": [
        "# Split into features and labels\n",
        "train_features, train_labels = train_data[full_features], train_data['ev_label']\n",
        "dev_features, dev_labels = dev_data[full_features], dev_data['ev_label']\n",
        "#dev_data = dev_data[full_features + ['ev_label']]\n",
        "\n",
        "\n",
        "\n",
        "# Check out shapes\n",
        "print('train features shape: ', train_features.shape)\n",
        "print('dev features shape: ', dev_features.shape)\n",
        "print('train label shape:', train_labels.shape)\n",
        "print('dev label shape:', dev_labels.shape)\n",
        "#print('dev data shape', dev_data.shape)\n"
      ],
      "execution_count": 145,
      "outputs": [
        {
          "output_type": "stream",
          "text": [
            "train features shape:  (6685, 479)\n",
            "dev features shape:  (1672, 479)\n",
            "train label shape: (6685,)\n",
            "dev label shape: (1672,)\n"
          ],
          "name": "stdout"
        }
      ]
    },
    {
      "cell_type": "code",
      "metadata": {
        "colab": {
          "base_uri": "https://localhost:8080/"
        },
        "id": "jCg4MEpgmHCn",
        "outputId": "3e1c19a8-e980-4287-8c14-deb3269e582a"
      },
      "source": [
        ""
      ],
      "execution_count": 132,
      "outputs": [
        {
          "output_type": "execute_result",
          "data": {
            "text/plain": [
              "HHIncTenOwn        int64\n",
              "HHIncTenOwn_10     int64\n",
              "HHIncTenOwn_100    int64\n",
              "HHIncTenOwn_15     int64\n",
              "HHIncTenOwn_150    int64\n",
              "                   ...  \n",
              "10846              int64\n",
              "10847              int64\n",
              "10848              int64\n",
              "10849              int64\n",
              "10850              int64\n",
              "Length: 11115, dtype: object"
            ]
          },
          "metadata": {
            "tags": []
          },
          "execution_count": 132
        }
      ]
    },
    {
      "cell_type": "markdown",
      "metadata": {
        "id": "HvOowGam1FYh"
      },
      "source": [
        "# All Other Models"
      ]
    },
    {
      "cell_type": "markdown",
      "metadata": {
        "id": "OqC8RapUf7VR"
      },
      "source": [
        "## Extreme Gradient Boost XGB"
      ]
    },
    {
      "cell_type": "code",
      "metadata": {
        "id": "xBuScCJ4deiO"
      },
      "source": [
        "xgb_model = xgb.XGBClassifier(eta=0.3, # Learning Rate\n",
        "                              gamma=0, # Minimum Loss reduction for further partition on node\n",
        "                              max_depth = 10, # Max depth of tree, more deep -> overfitting (default = 6)\n",
        "                              min_child_weight = 1,\n",
        "                              max_delta_step=0,\n",
        "                              subsample = 1,  # Take sample of training data to build trees\n",
        "                              reg_lambda = 1, # L2 Regularization\n",
        "                              alpha = 0) # L1 regularization\n",
        "xgb_model.fit(train_features, train_labels)\n",
        "xgb_predict = xgb_model.predict(dev_features)\n",
        "# 'weighted' to adjust macro for class imbalance\n",
        "xgb_score =  metrics.f1_score(xgb_predict,dev_labels,average=\"weighted\")\n",
        "xgb_acc = metrics.accuracy_score(xgb_predict, dev_labels)"
      ],
      "execution_count": 146,
      "outputs": []
    },
    {
      "cell_type": "code",
      "metadata": {
        "colab": {
          "base_uri": "https://localhost:8080/",
          "height": 310
        },
        "id": "Xz8v45XrilOH",
        "outputId": "e6675ee9-4c50-4a68-c6a8-54c660bf3e18"
      },
      "source": [
        "xgb.plot_importance(xgb_model, max_num_features=20)"
      ],
      "execution_count": 147,
      "outputs": [
        {
          "output_type": "execute_result",
          "data": {
            "text/plain": [
              "<matplotlib.axes._subplots.AxesSubplot at 0x7fa9d4000590>"
            ]
          },
          "metadata": {
            "tags": []
          },
          "execution_count": 147
        },
        {
          "output_type": "display_data",
          "data": {
            "image/png": "[encoded data removed]",
            "text/plain": [
              "<Figure size 432x288 with 1 Axes>"
            ]
          },
          "metadata": {
            "tags": [],
            "needs_background": "light"
          }
        }
      ]
    },
    {
      "cell_type": "code",
      "metadata": {
        "colab": {
          "base_uri": "https://localhost:8080/"
        },
        "id": "5aAOoueneV2h",
        "outputId": "2a480013-d336-4ce3-f1ba-03c88b6fef43"
      },
      "source": [
        "xgb_score # 0.7157449023811927"
      ],
      "execution_count": 148,
      "outputs": [
        {
          "output_type": "execute_result",
          "data": {
            "text/plain": [
              "0.7189147643413969"
            ]
          },
          "metadata": {
            "tags": []
          },
          "execution_count": 148
        }
      ]
    },
    {
      "cell_type": "code",
      "metadata": {
        "colab": {
          "base_uri": "https://localhost:8080/"
        },
        "id": "y8RY6xDW8qHt",
        "outputId": "860fdfce-7e23-4798-8235-2680410217d8"
      },
      "source": [
        "xgb_acc # 0.708732057416268"
      ],
      "execution_count": 149,
      "outputs": [
        {
          "output_type": "execute_result",
          "data": {
            "text/plain": [
              "0.7117224880382775"
            ]
          },
          "metadata": {
            "tags": []
          },
          "execution_count": 149
        }
      ]
    },
    {
      "cell_type": "code",
      "metadata": {
        "colab": {
          "base_uri": "https://localhost:8080/"
        },
        "id": "OPed7QY79_2A",
        "outputId": "e5fdc660-2990-4703-c0ea-0b65fedac1d2"
      },
      "source": [
        "metrics.roc_auc_score(dev_labels, xgb_model.predict_proba(dev_features), multi_class='ovr') # 0.8545221181731065"
      ],
      "execution_count": 150,
      "outputs": [
        {
          "output_type": "execute_result",
          "data": {
            "text/plain": [
              "0.8538137823218372"
            ]
          },
          "metadata": {
            "tags": []
          },
          "execution_count": 150
        }
      ]
    },
    {
      "cell_type": "code",
      "metadata": {
        "colab": {
          "base_uri": "https://localhost:8080/"
        },
        "id": "9bXOFwwmI-YX",
        "outputId": "a6fca8bc-e7f4-4a1f-9e8c-1982b91ad24b"
      },
      "source": [
        "np.unique(xgb_predict, return_counts=True) # good distributions of classes"
      ],
      "execution_count": 37,
      "outputs": [
        {
          "output_type": "execute_result",
          "data": {
            "text/plain": [
              "(array(['2%-5%', 'Over 5%', 'Under 2%'], dtype=object), array([459, 214, 999]))"
            ]
          },
          "metadata": {
            "tags": []
          },
          "execution_count": 37
        }
      ]
    },
    {
      "cell_type": "markdown",
      "metadata": {
        "id": "kOiXm9BXj-NL"
      },
      "source": [
        "### Try it with normalized data"
      ]
    },
    {
      "cell_type": "code",
      "metadata": {
        "id": "etjQC1LOkAGF"
      },
      "source": [
        "# # (norm='l2', *, axis=1, copy=True, return_norm=False)\n",
        "# train_feat_norm = preprocessing.normalize(train_features,\n",
        "#                                           axis=1)\n",
        "# dev_feat_norm = preprocessing.normalize(dev_features,\n",
        "#                                         axis=1)\n",
        "\n",
        "# xgb_model_norm = xgb.XGBClassifier(eta=0.3, # Learning Rate\n",
        "#                               gamma=0, # Minimum Loss reduction for further partition on node\n",
        "#                               max_depth = 10, # Max depth of tree, more deep -> overfitting (default = 6)\n",
        "#                               min_child_weight = 1,\n",
        "#                               max_delta_step=0,\n",
        "#                               subsample = 1,  # Take sample of training data to build trees\n",
        "#                               reg_lambda = 1, # L2 Regularization\n",
        "#                               alpha = 0) # L1 regularization\n",
        "# xgb_model_norm.fit(train_feat_norm, train_labels)\n",
        "# xgb_predict_norm = xgb_model_norm.predict(dev_feat_norm)\n",
        "# # 'weighted' to adjust macro for class imbalance\n",
        "# xgb_score_norm =  metrics.f1_score(xgb_predict_norm,dev_labels,average=\"weighted\")\n",
        "# xgb_acc_norm = metrics.accuracy_score(xgb_predict_norm, dev_labels)\n"
      ],
      "execution_count": 38,
      "outputs": []
    },
    {
      "cell_type": "code",
      "metadata": {
        "colab": {
          "base_uri": "https://localhost:8080/"
        },
        "id": "PLTyz8nPkgBg",
        "outputId": "dfddc4db-b9c6-4f14-d1c0-6e059f4eb4a1"
      },
      "source": [
        "# xgb_acc_norm"
      ],
      "execution_count": 41,
      "outputs": [
        {
          "output_type": "execute_result",
          "data": {
            "text/plain": [
              "0.7051435406698564"
            ]
          },
          "metadata": {
            "tags": []
          },
          "execution_count": 41
        }
      ]
    },
    {
      "cell_type": "code",
      "metadata": {
        "colab": {
          "base_uri": "https://localhost:8080/",
          "height": 310
        },
        "id": "ICUrwb6AkhkU",
        "outputId": "e7600b56-acc9-4396-e15c-9e4ccca995ce"
      },
      "source": [
        "# xgb.plot_importance(xgb_model_norm, max_num_features=20)"
      ],
      "execution_count": 42,
      "outputs": [
        {
          "output_type": "execute_result",
          "data": {
            "text/plain": [
              "<matplotlib.axes._subplots.AxesSubplot at 0x7fa9dbf62550>"
            ]
          },
          "metadata": {
            "tags": []
          },
          "execution_count": 42
        },
        {
          "output_type": "display_data",
          "data": {
            "image/png": "[encoded data removed]",
            "text/plain": [
              "<Figure size 432x288 with 1 Axes>"
            ]
          },
          "metadata": {
            "tags": [],
            "needs_background": "light"
          }
        }
      ]
    },
    {
      "cell_type": "markdown",
      "metadata": {
        "id": "z3q1eTtm1HNk"
      },
      "source": [
        "## Logistic Regression"
      ]
    },
    {
      "cell_type": "code",
      "metadata": {
        "id": "dH1bv3Id7PEM",
        "colab": {
          "base_uri": "https://localhost:8080/",
          "height": 331
        },
        "outputId": "d6d90a55-a750-472f-c8e6-01939b46955e"
      },
      "source": [
        "lr = LogisticRegression(C= 1 , solver=\"lbfgs\", multi_class=\"auto\").fit(train_features, train_labels)\n",
        "lr_predict = lr.predict(dev_features)\n",
        "lr_score =  metrics.f1_score(lr_predict,dev_labels,average=\"weighted\")"
      ],
      "execution_count": 97,
      "outputs": [
        {
          "output_type": "error",
          "ename": "TypeError",
          "evalue": "ignored",
          "traceback": [
            "\u001b[0;31m---------------------------------------------------------------------------\u001b[0m",
            "\u001b[0;31mTypeError\u001b[0m                                 Traceback (most recent call last)",
            "\u001b[0;32m<ipython-input-97-2965eb72d37a>\u001b[0m in \u001b[0;36m<module>\u001b[0;34m()\u001b[0m\n\u001b[0;32m----> 1\u001b[0;31m \u001b[0mlr\u001b[0m \u001b[0;34m=\u001b[0m \u001b[0mLogisticRegression\u001b[0m\u001b[0;34m(\u001b[0m\u001b[0mC\u001b[0m\u001b[0;34m=\u001b[0m \u001b[0;36m1\u001b[0m \u001b[0;34m,\u001b[0m \u001b[0msolver\u001b[0m\u001b[0;34m=\u001b[0m\u001b[0;34m\"lbfgs\"\u001b[0m\u001b[0;34m,\u001b[0m \u001b[0mmulti_class\u001b[0m\u001b[0;34m=\u001b[0m\u001b[0;34m\"auto\"\u001b[0m\u001b[0;34m)\u001b[0m\u001b[0;34m.\u001b[0m\u001b[0mfit\u001b[0m\u001b[0;34m(\u001b[0m\u001b[0mtrain_features\u001b[0m\u001b[0;34m,\u001b[0m \u001b[0mtrain_labels\u001b[0m\u001b[0;34m)\u001b[0m\u001b[0;34m\u001b[0m\u001b[0;34m\u001b[0m\u001b[0m\n\u001b[0m\u001b[1;32m      2\u001b[0m \u001b[0mlr_predict\u001b[0m \u001b[0;34m=\u001b[0m \u001b[0mlr\u001b[0m\u001b[0;34m.\u001b[0m\u001b[0mpredict\u001b[0m\u001b[0;34m(\u001b[0m\u001b[0mdev_features\u001b[0m\u001b[0;34m)\u001b[0m\u001b[0;34m\u001b[0m\u001b[0;34m\u001b[0m\u001b[0m\n\u001b[1;32m      3\u001b[0m \u001b[0mlr_score\u001b[0m \u001b[0;34m=\u001b[0m  \u001b[0mmetrics\u001b[0m\u001b[0;34m.\u001b[0m\u001b[0mf1_score\u001b[0m\u001b[0;34m(\u001b[0m\u001b[0mlr_predict\u001b[0m\u001b[0;34m,\u001b[0m\u001b[0mdev_labels\u001b[0m\u001b[0;34m,\u001b[0m\u001b[0maverage\u001b[0m\u001b[0;34m=\u001b[0m\u001b[0;34m\"weighted\"\u001b[0m\u001b[0;34m)\u001b[0m\u001b[0;34m\u001b[0m\u001b[0;34m\u001b[0m\u001b[0m\n",
            "\u001b[0;32m/usr/local/lib/python3.7/dist-packages/sklearn/linear_model/_logistic.py\u001b[0m in \u001b[0;36mfit\u001b[0;34m(self, X, y, sample_weight)\u001b[0m\n\u001b[1;32m   1525\u001b[0m \u001b[0;34m\u001b[0m\u001b[0m\n\u001b[1;32m   1526\u001b[0m         X, y = check_X_y(X, y, accept_sparse='csr', dtype=_dtype, order=\"C\",\n\u001b[0;32m-> 1527\u001b[0;31m                          accept_large_sparse=solver != 'liblinear')\n\u001b[0m\u001b[1;32m   1528\u001b[0m         \u001b[0mcheck_classification_targets\u001b[0m\u001b[0;34m(\u001b[0m\u001b[0my\u001b[0m\u001b[0;34m)\u001b[0m\u001b[0;34m\u001b[0m\u001b[0;34m\u001b[0m\u001b[0m\n\u001b[1;32m   1529\u001b[0m         \u001b[0mself\u001b[0m\u001b[0;34m.\u001b[0m\u001b[0mclasses_\u001b[0m \u001b[0;34m=\u001b[0m \u001b[0mnp\u001b[0m\u001b[0;34m.\u001b[0m\u001b[0munique\u001b[0m\u001b[0;34m(\u001b[0m\u001b[0my\u001b[0m\u001b[0;34m)\u001b[0m\u001b[0;34m\u001b[0m\u001b[0;34m\u001b[0m\u001b[0m\n",
            "\u001b[0;32m/usr/local/lib/python3.7/dist-packages/sklearn/utils/validation.py\u001b[0m in \u001b[0;36mcheck_X_y\u001b[0;34m(X, y, accept_sparse, accept_large_sparse, dtype, order, copy, force_all_finite, ensure_2d, allow_nd, multi_output, ensure_min_samples, ensure_min_features, y_numeric, warn_on_dtype, estimator)\u001b[0m\n\u001b[1;32m    753\u001b[0m                     \u001b[0mensure_min_features\u001b[0m\u001b[0;34m=\u001b[0m\u001b[0mensure_min_features\u001b[0m\u001b[0;34m,\u001b[0m\u001b[0;34m\u001b[0m\u001b[0;34m\u001b[0m\u001b[0m\n\u001b[1;32m    754\u001b[0m                     \u001b[0mwarn_on_dtype\u001b[0m\u001b[0;34m=\u001b[0m\u001b[0mwarn_on_dtype\u001b[0m\u001b[0;34m,\u001b[0m\u001b[0;34m\u001b[0m\u001b[0;34m\u001b[0m\u001b[0m\n\u001b[0;32m--> 755\u001b[0;31m                     estimator=estimator)\n\u001b[0m\u001b[1;32m    756\u001b[0m     \u001b[0;32mif\u001b[0m \u001b[0mmulti_output\u001b[0m\u001b[0;34m:\u001b[0m\u001b[0;34m\u001b[0m\u001b[0;34m\u001b[0m\u001b[0m\n\u001b[1;32m    757\u001b[0m         y = check_array(y, 'csr', force_all_finite=True, ensure_2d=False,\n",
            "\u001b[0;32m/usr/local/lib/python3.7/dist-packages/sklearn/utils/validation.py\u001b[0m in \u001b[0;36mcheck_array\u001b[0;34m(array, accept_sparse, accept_large_sparse, dtype, order, copy, force_all_finite, ensure_2d, allow_nd, ensure_min_samples, ensure_min_features, warn_on_dtype, estimator)\u001b[0m\n\u001b[1;32m    529\u001b[0m                     \u001b[0marray\u001b[0m \u001b[0;34m=\u001b[0m \u001b[0marray\u001b[0m\u001b[0;34m.\u001b[0m\u001b[0mastype\u001b[0m\u001b[0;34m(\u001b[0m\u001b[0mdtype\u001b[0m\u001b[0;34m,\u001b[0m \u001b[0mcasting\u001b[0m\u001b[0;34m=\u001b[0m\u001b[0;34m\"unsafe\"\u001b[0m\u001b[0;34m,\u001b[0m \u001b[0mcopy\u001b[0m\u001b[0;34m=\u001b[0m\u001b[0;32mFalse\u001b[0m\u001b[0;34m)\u001b[0m\u001b[0;34m\u001b[0m\u001b[0;34m\u001b[0m\u001b[0m\n\u001b[1;32m    530\u001b[0m                 \u001b[0;32melse\u001b[0m\u001b[0;34m:\u001b[0m\u001b[0;34m\u001b[0m\u001b[0;34m\u001b[0m\u001b[0m\n\u001b[0;32m--> 531\u001b[0;31m                     \u001b[0marray\u001b[0m \u001b[0;34m=\u001b[0m \u001b[0mnp\u001b[0m\u001b[0;34m.\u001b[0m\u001b[0masarray\u001b[0m\u001b[0;34m(\u001b[0m\u001b[0marray\u001b[0m\u001b[0;34m,\u001b[0m \u001b[0morder\u001b[0m\u001b[0;34m=\u001b[0m\u001b[0morder\u001b[0m\u001b[0;34m,\u001b[0m \u001b[0mdtype\u001b[0m\u001b[0;34m=\u001b[0m\u001b[0mdtype\u001b[0m\u001b[0;34m)\u001b[0m\u001b[0;34m\u001b[0m\u001b[0;34m\u001b[0m\u001b[0m\n\u001b[0m\u001b[1;32m    532\u001b[0m             \u001b[0;32mexcept\u001b[0m \u001b[0mComplexWarning\u001b[0m\u001b[0;34m:\u001b[0m\u001b[0;34m\u001b[0m\u001b[0;34m\u001b[0m\u001b[0m\n\u001b[1;32m    533\u001b[0m                 raise ValueError(\"Complex data not supported\\n\"\n",
            "\u001b[0;32m/usr/local/lib/python3.7/dist-packages/numpy/core/_asarray.py\u001b[0m in \u001b[0;36masarray\u001b[0;34m(a, dtype, order)\u001b[0m\n\u001b[1;32m     81\u001b[0m \u001b[0;34m\u001b[0m\u001b[0m\n\u001b[1;32m     82\u001b[0m     \"\"\"\n\u001b[0;32m---> 83\u001b[0;31m     \u001b[0;32mreturn\u001b[0m \u001b[0marray\u001b[0m\u001b[0;34m(\u001b[0m\u001b[0ma\u001b[0m\u001b[0;34m,\u001b[0m \u001b[0mdtype\u001b[0m\u001b[0;34m,\u001b[0m \u001b[0mcopy\u001b[0m\u001b[0;34m=\u001b[0m\u001b[0;32mFalse\u001b[0m\u001b[0;34m,\u001b[0m \u001b[0morder\u001b[0m\u001b[0;34m=\u001b[0m\u001b[0morder\u001b[0m\u001b[0;34m)\u001b[0m\u001b[0;34m\u001b[0m\u001b[0;34m\u001b[0m\u001b[0m\n\u001b[0m\u001b[1;32m     84\u001b[0m \u001b[0;34m\u001b[0m\u001b[0m\n\u001b[1;32m     85\u001b[0m \u001b[0;34m\u001b[0m\u001b[0m\n",
            "\u001b[0;32m/usr/local/lib/python3.7/dist-packages/pandas/core/generic.py\u001b[0m in \u001b[0;36m__array__\u001b[0;34m(self, dtype)\u001b[0m\n\u001b[1;32m   1779\u001b[0m \u001b[0;34m\u001b[0m\u001b[0m\n\u001b[1;32m   1780\u001b[0m     \u001b[0;32mdef\u001b[0m \u001b[0m__array__\u001b[0m\u001b[0;34m(\u001b[0m\u001b[0mself\u001b[0m\u001b[0;34m,\u001b[0m \u001b[0mdtype\u001b[0m\u001b[0;34m=\u001b[0m\u001b[0;32mNone\u001b[0m\u001b[0;34m)\u001b[0m \u001b[0;34m->\u001b[0m \u001b[0mnp\u001b[0m\u001b[0;34m.\u001b[0m\u001b[0mndarray\u001b[0m\u001b[0;34m:\u001b[0m\u001b[0;34m\u001b[0m\u001b[0;34m\u001b[0m\u001b[0m\n\u001b[0;32m-> 1781\u001b[0;31m         \u001b[0;32mreturn\u001b[0m \u001b[0mnp\u001b[0m\u001b[0;34m.\u001b[0m\u001b[0masarray\u001b[0m\u001b[0;34m(\u001b[0m\u001b[0mself\u001b[0m\u001b[0;34m.\u001b[0m\u001b[0m_values\u001b[0m\u001b[0;34m,\u001b[0m \u001b[0mdtype\u001b[0m\u001b[0;34m=\u001b[0m\u001b[0mdtype\u001b[0m\u001b[0;34m)\u001b[0m\u001b[0;34m\u001b[0m\u001b[0;34m\u001b[0m\u001b[0m\n\u001b[0m\u001b[1;32m   1782\u001b[0m \u001b[0;34m\u001b[0m\u001b[0m\n\u001b[1;32m   1783\u001b[0m     \u001b[0;32mdef\u001b[0m \u001b[0m__array_wrap__\u001b[0m\u001b[0;34m(\u001b[0m\u001b[0mself\u001b[0m\u001b[0;34m,\u001b[0m \u001b[0mresult\u001b[0m\u001b[0;34m,\u001b[0m \u001b[0mcontext\u001b[0m\u001b[0;34m=\u001b[0m\u001b[0;32mNone\u001b[0m\u001b[0;34m)\u001b[0m\u001b[0;34m:\u001b[0m\u001b[0;34m\u001b[0m\u001b[0;34m\u001b[0m\u001b[0m\n",
            "\u001b[0;32m/usr/local/lib/python3.7/dist-packages/numpy/core/_asarray.py\u001b[0m in \u001b[0;36masarray\u001b[0;34m(a, dtype, order)\u001b[0m\n\u001b[1;32m     81\u001b[0m \u001b[0;34m\u001b[0m\u001b[0m\n\u001b[1;32m     82\u001b[0m     \"\"\"\n\u001b[0;32m---> 83\u001b[0;31m     \u001b[0;32mreturn\u001b[0m \u001b[0marray\u001b[0m\u001b[0;34m(\u001b[0m\u001b[0ma\u001b[0m\u001b[0;34m,\u001b[0m \u001b[0mdtype\u001b[0m\u001b[0;34m,\u001b[0m \u001b[0mcopy\u001b[0m\u001b[0;34m=\u001b[0m\u001b[0;32mFalse\u001b[0m\u001b[0;34m,\u001b[0m \u001b[0morder\u001b[0m\u001b[0;34m=\u001b[0m\u001b[0morder\u001b[0m\u001b[0;34m)\u001b[0m\u001b[0;34m\u001b[0m\u001b[0;34m\u001b[0m\u001b[0m\n\u001b[0m\u001b[1;32m     84\u001b[0m \u001b[0;34m\u001b[0m\u001b[0m\n\u001b[1;32m     85\u001b[0m \u001b[0;34m\u001b[0m\u001b[0m\n",
            "\u001b[0;31mTypeError\u001b[0m: float() argument must be a string or a number, not 'OneHotEncoder'"
          ]
        }
      ]
    },
    {
      "cell_type": "code",
      "metadata": {
        "colab": {
          "base_uri": "https://localhost:8080/"
        },
        "id": "lJTnK8rT8fXG",
        "outputId": "1339d7ec-df60-436c-fc61-a42494b659b5"
      },
      "source": [
        "lr_score"
      ],
      "execution_count": 25,
      "outputs": [
        {
          "output_type": "execute_result",
          "data": {
            "text/plain": [
              "0.7003497862417412"
            ]
          },
          "metadata": {
            "tags": []
          },
          "execution_count": 25
        }
      ]
    },
    {
      "cell_type": "code",
      "metadata": {
        "colab": {
          "base_uri": "https://localhost:8080/"
        },
        "id": "syMy-vZyI3Ng",
        "outputId": "ca972269-3203-4f2b-8d9e-20c9153b1ac7"
      },
      "source": [
        "metrics.accuracy_score(lr_predict, dev_labels)"
      ],
      "execution_count": 26,
      "outputs": [
        {
          "output_type": "execute_result",
          "data": {
            "text/plain": [
              "0.5388755980861244"
            ]
          },
          "metadata": {
            "tags": []
          },
          "execution_count": 26
        }
      ]
    },
    {
      "cell_type": "code",
      "metadata": {
        "colab": {
          "base_uri": "https://localhost:8080/"
        },
        "id": "AUVSTfQ9I-mL",
        "outputId": "446ecd2b-af9b-4f34-bb4d-c9a18f4cdb12"
      },
      "source": [
        "metrics.roc_auc_score(dev_labels, lr.predict_proba(dev_features), multi_class='ovr')"
      ],
      "execution_count": 27,
      "outputs": [
        {
          "output_type": "execute_result",
          "data": {
            "text/plain": [
              "0.4501842797694711"
            ]
          },
          "metadata": {
            "tags": []
          },
          "execution_count": 27
        }
      ]
    },
    {
      "cell_type": "code",
      "metadata": {
        "colab": {
          "base_uri": "https://localhost:8080/"
        },
        "id": "dNXXtTG7IEp7",
        "outputId": "56d1fc91-7361-414d-cbfa-8d76919be027"
      },
      "source": [
        "np.unique(lr_predict) # Only predicts one class :("
      ],
      "execution_count": 28,
      "outputs": [
        {
          "output_type": "execute_result",
          "data": {
            "text/plain": [
              "array(['Under 2%'], dtype=object)"
            ]
          },
          "metadata": {
            "tags": []
          },
          "execution_count": 28
        }
      ]
    },
    {
      "cell_type": "code",
      "metadata": {
        "id": "HO63M-S7hFca"
      },
      "source": [
        "# ordinal data should yield the same results\n",
        "# we made ordinal encoding for neural nets which did not perform well\n",
        "lr_ord = LogisticRegression(C= 1 , solver=\"lbfgs\", multi_class=\"auto\").fit(train_features, train_ord_label)\n",
        "lr_ord_predict = lr_ord.predict(dev_features)\n",
        "\n",
        "\n",
        "lr_ord_score =  metrics.f1_score(lr_ord_predict,dev_ord_label,average=\"weighted\")"
      ],
      "execution_count": 29,
      "outputs": []
    },
    {
      "cell_type": "code",
      "metadata": {
        "colab": {
          "base_uri": "https://localhost:8080/"
        },
        "id": "sTop_NljHwVn",
        "outputId": "606ba70e-a34a-4860-bc09-3a430bfa831d"
      },
      "source": [
        "lr_ord_score"
      ],
      "execution_count": 30,
      "outputs": [
        {
          "output_type": "execute_result",
          "data": {
            "text/plain": [
              "0.7003497862417412"
            ]
          },
          "metadata": {
            "tags": []
          },
          "execution_count": 30
        }
      ]
    },
    {
      "cell_type": "code",
      "metadata": {
        "colab": {
          "base_uri": "https://localhost:8080/"
        },
        "id": "h2gvXj_Zz3mJ",
        "outputId": "eb9473fe-a015-4831-9422-514da82072f8"
      },
      "source": [
        "np.unique(lr_ord_predict) # predicts only one class"
      ],
      "execution_count": 31,
      "outputs": [
        {
          "output_type": "execute_result",
          "data": {
            "text/plain": [
              "array([1])"
            ]
          },
          "metadata": {
            "tags": []
          },
          "execution_count": 31
        }
      ]
    },
    {
      "cell_type": "markdown",
      "metadata": {
        "id": "18XGaHtPf-2z"
      },
      "source": [
        "## K Nearest Neighbor"
      ]
    },
    {
      "cell_type": "code",
      "metadata": {
        "id": "ODnvAtVCehGH"
      },
      "source": [
        "from sklearn.neighbors import KNeighborsClassifier"
      ],
      "execution_count": null,
      "outputs": []
    },
    {
      "cell_type": "code",
      "metadata": {
        "colab": {
          "base_uri": "https://localhost:8080/"
        },
        "id": "aKyxY6MylNch",
        "outputId": "04d46efb-4dc0-4b62-fee6-2b3feb7a32a9"
      },
      "source": [
        "best_score = []\n",
        "all_k = []\n",
        "\n",
        "for k in list(range(1,41)):\n",
        "  knn_model = KNeighborsClassifier(n_neighbors=k)\n",
        "  knn_model.fit(train_features, train_labels)\n",
        "  prediction = knn_model.predict(dev_features)\n",
        "  score =  metrics.f1_score(dev_labels, prediction, average=\"weighted\")\n",
        "  best_score.append(score)\n",
        "  all_k.append(k)\n",
        "     \n",
        "#find max accuracy\n",
        "knn_score = max(best_score)\n",
        "#find index of max accuracy\n",
        "index = best_score.index(knn_score)\n",
        "#find index for other values\n",
        "best_k =all_k[index]\n",
        "\n",
        "print(\"SCORE: \", knn_score, \"MODEL: KNN\",\"BEST K-Size:\", best_k)"
      ],
      "execution_count": null,
      "outputs": [
        {
          "output_type": "stream",
          "text": [
            "SCORE:  0.6730618817083599 MODEL: KNN BEST K-Size: 7\n"
          ],
          "name": "stdout"
        }
      ]
    },
    {
      "cell_type": "code",
      "metadata": {
        "colab": {
          "base_uri": "https://localhost:8080/",
          "height": 69
        },
        "id": "LL_nI-YSmiGU",
        "outputId": "77066235-988f-4fb8-e306-fd8d9b416ae9"
      },
      "source": [
        "fig = plt.figure()\n",
        "ax = plt.axes()\n",
        "\n",
        "ax.plot(all_k, best_score)"
      ],
      "execution_count": null,
      "outputs": [
        {
          "output_type": "execute_result",
          "data": {
            "text/plain": [
              "[<matplotlib.lines.Line2D at 0x7f1ae7ddcd10>]"
            ]
          },
          "metadata": {
            "tags": []
          },
          "execution_count": 179
        },
        {
          "output_type": "display_data",
          "data": {
            "image/png": "[encoded data removed]",
            "text/plain": [
              "<Figure size 432x288 with 1 Axes>"
            ]
          },
          "metadata": {
            "tags": [],
            "needs_background": "light"
          }
        }
      ]
    },
    {
      "cell_type": "code",
      "metadata": {
        "colab": {
          "base_uri": "https://localhost:8080/"
        },
        "id": "JYFGpK2tJl3e",
        "outputId": "79d1ddcf-e66c-4452-a536-4ce13ab4b550"
      },
      "source": [
        "knn_model = KNeighborsClassifier(n_neighbors=7)\n",
        "knn_model.fit(train_features, train_labels)\n",
        "knn_predict = knn_model.predict(dev_features)\n",
        "metrics.f1_score(dev_labels, prediction, average=\"weighted\")"
      ],
      "execution_count": null,
      "outputs": [
        {
          "output_type": "execute_result",
          "data": {
            "text/plain": [
              "0.6501147206550453"
            ]
          },
          "metadata": {
            "tags": []
          },
          "execution_count": 180
        }
      ]
    },
    {
      "cell_type": "code",
      "metadata": {
        "colab": {
          "base_uri": "https://localhost:8080/"
        },
        "id": "kbLC2ao0JcvS",
        "outputId": "162c0b96-1a26-4356-8daa-09f4440cc336"
      },
      "source": [
        "metrics.accuracy_score(knn_predict, dev_labels)"
      ],
      "execution_count": null,
      "outputs": [
        {
          "output_type": "execute_result",
          "data": {
            "text/plain": [
              "0.6722488038277512"
            ]
          },
          "metadata": {
            "tags": []
          },
          "execution_count": 181
        }
      ]
    },
    {
      "cell_type": "code",
      "metadata": {
        "colab": {
          "base_uri": "https://localhost:8080/"
        },
        "id": "iPmHFdOHJiK6",
        "outputId": "2cb16edf-e7ad-41d5-ac8d-42bbbe3be430"
      },
      "source": [
        "metrics.roc_auc_score(dev_labels, knn_model.predict_proba(dev_features), multi_class='ovr')"
      ],
      "execution_count": null,
      "outputs": [
        {
          "output_type": "execute_result",
          "data": {
            "text/plain": [
              "0.8038036348738865"
            ]
          },
          "metadata": {
            "tags": []
          },
          "execution_count": 182
        }
      ]
    },
    {
      "cell_type": "markdown",
      "metadata": {
        "id": "PCk1IxSP1WIC"
      },
      "source": [
        "## Naive Bayes"
      ]
    },
    {
      "cell_type": "code",
      "metadata": {
        "colab": {
          "base_uri": "https://localhost:8080/"
        },
        "id": "lRQkfMvN1hub",
        "outputId": "b893ae08-61cf-4c5f-e13e-954792dee233"
      },
      "source": [
        "# Multinomial Naive Bayes\n",
        "alpha_vals = [ele/10 for ele in list(range(1,10))]\n",
        "alpha_vals.insert(0, .01)\n",
        "alpha_vals.insert(0, .001)\n",
        "alpha_vals.insert(0, .0001)\n",
        "\n",
        "best_score = []\n",
        "all_alpha = []\n",
        "\n",
        "for a in alpha_vals:\n",
        "  nb_model = MultinomialNB(alpha = a)\n",
        "  nb_model.fit(train_features, train_labels)\n",
        "  prediction =nb_model.predict(dev_features)\n",
        "  score =  metrics.f1_score(dev_labels, prediction, average=\"weighted\")\n",
        "  best_score.append(score)\n",
        "  all_alpha.append(a)\n",
        "\n",
        "\n",
        "\n",
        "# find max accuracy\n",
        "mnb_score = max(best_score)\n",
        "# find index of max accuracy\n",
        "index = best_score.index(mnb_score)\n",
        "# find index for other values\n",
        "best_alpha =all_alpha[index]\n",
        "\n",
        "print(\"SCORE: \", mnb_score, \"MODEL: Multinomial Naive Bayes\",\"BEST Alpha:\", best_alpha)\n"
      ],
      "execution_count": null,
      "outputs": [
        {
          "output_type": "stream",
          "text": [
            "SCORE:  0.4984961334176105 MODEL: Multinomial Naive Bayes BEST Alpha: 0.0001\n"
          ],
          "name": "stdout"
        }
      ]
    },
    {
      "cell_type": "markdown",
      "metadata": {
        "id": "zUs7D3AF6Bnv"
      },
      "source": [
        "## Decision Tree"
      ]
    },
    {
      "cell_type": "code",
      "metadata": {
        "id": "SVuty-xq6yil"
      },
      "source": [
        "from sklearn.tree import DecisionTreeClassifier\n"
      ],
      "execution_count": null,
      "outputs": []
    },
    {
      "cell_type": "code",
      "metadata": {
        "colab": {
          "base_uri": "https://localhost:8080/"
        },
        "id": "ShmDaAHD6F3J",
        "outputId": "272b240c-4e42-4874-fa2b-a0cc8d9af653"
      },
      "source": [
        "accuracy = []\n",
        "depths = np.arange(1, 10, 1)\n",
        "for i in depths:\n",
        "  dtc_model = DecisionTreeClassifier(max_depth = i)\n",
        "  dtc_model.fit(train_features, train_labels)\n",
        "  score = dtc_model.score(dev_features, dev_labels)\n",
        "  print(\"Accuracy on Dev Data: \", score)\n",
        "  accuracy.append(score)"
      ],
      "execution_count": null,
      "outputs": [
        {
          "output_type": "stream",
          "text": [
            "Accuracy on Dev Data:  0.5980861244019139\n",
            "Accuracy on Dev Data:  0.6010765550239234\n",
            "Accuracy on Dev Data:  0.6226076555023924\n",
            "Accuracy on Dev Data:  0.6465311004784688\n",
            "Accuracy on Dev Data:  0.6357655502392344\n",
            "Accuracy on Dev Data:  0.632177033492823\n",
            "Accuracy on Dev Data:  0.632177033492823\n",
            "Accuracy on Dev Data:  0.6357655502392344\n",
            "Accuracy on Dev Data:  0.618421052631579\n"
          ],
          "name": "stdout"
        }
      ]
    },
    {
      "cell_type": "markdown",
      "metadata": {
        "id": "EINWMJXE7KB7"
      },
      "source": [
        "## Keras Neural Net\n",
        "\n",
        "(Doesn't work well, takes forever,  highest acc ~32%)"
      ]
    },
    {
      "cell_type": "code",
      "metadata": {
        "id": "T9_3k8gW7mcG"
      },
      "source": [
        "import numpy as np\n",
        "import tensorflow as tf\n",
        "from tensorflow import keras\n",
        "from tensorflow.keras import layers\n",
        "from keras.models import Sequential\n",
        "from keras.layers import Dense\n",
        "from keras.optimizers import SGD"
      ],
      "execution_count": null,
      "outputs": []
    },
    {
      "cell_type": "code",
      "metadata": {
        "colab": {
          "base_uri": "https://localhost:8080/"
        },
        "id": "hdeimkOXG852",
        "outputId": "efd3d6a5-6dcd-41f2-d7b5-e2c7ee60c16f"
      },
      "source": [
        "train_features.shape"
      ],
      "execution_count": null,
      "outputs": [
        {
          "output_type": "execute_result",
          "data": {
            "text/plain": [
              "(6685, 264)"
            ]
          },
          "metadata": {
            "tags": []
          },
          "execution_count": 197
        }
      ]
    },
    {
      "cell_type": "markdown",
      "metadata": {
        "id": "h4AKfvCnUb9q"
      },
      "source": [
        "### With continuous outcome"
      ]
    },
    {
      "cell_type": "code",
      "metadata": {
        "colab": {
          "base_uri": "https://localhost:8080/"
        },
        "id": "6Suqi83vIEAE",
        "outputId": "2ef6ea59-c1ed-404b-95c2-7affb7ae2ce5"
      },
      "source": [
        "train_ev_rate"
      ],
      "execution_count": null,
      "outputs": [
        {
          "output_type": "execute_result",
          "data": {
            "text/plain": [
              "5076     0.002375\n",
              "10411    0.011650\n",
              "3631     0.026936\n",
              "5004     0.006974\n",
              "4389     0.018887\n",
              "           ...   \n",
              "2119     0.029070\n",
              "585      0.044922\n",
              "7096     0.018500\n",
              "4664     0.006426\n",
              "5351     0.012891\n",
              "Name: ev_rate, Length: 6685, dtype: float64"
            ]
          },
          "metadata": {
            "tags": []
          },
          "execution_count": 198
        }
      ]
    },
    {
      "cell_type": "code",
      "metadata": {
        "colab": {
          "base_uri": "https://localhost:8080/"
        },
        "id": "JngRawWXOJZB",
        "outputId": "2b24fc16-9ff4-4fe4-c160-2daa91d5fd9a"
      },
      "source": [
        "dev_ev_rate"
      ],
      "execution_count": null,
      "outputs": [
        {
          "output_type": "execute_result",
          "data": {
            "text/plain": [
              "262      0.013289\n",
              "3477     0.058577\n",
              "1744     0.004255\n",
              "928      0.005714\n",
              "31       0.004505\n",
              "           ...   \n",
              "10521    0.014201\n",
              "8974     0.030960\n",
              "2972     0.018813\n",
              "1706     0.030462\n",
              "9165     0.012500\n",
              "Name: ev_rate, Length: 1672, dtype: float64"
            ]
          },
          "metadata": {
            "tags": []
          },
          "execution_count": 199
        }
      ]
    },
    {
      "cell_type": "code",
      "metadata": {
        "id": "pYtwvtlrG50A"
      },
      "source": [
        "# keras_model = Sequential()\n",
        "\n",
        "# keras_model.add(Dense(8, input_shape=(264,)))\n",
        "\n",
        "# keras_model.add(Dense(8))\n",
        "\n",
        "# keras_model.add(Dense(1))\n",
        "\n",
        "\n",
        "# keras_model.compile(loss='MeanSquaredError',\n",
        "#               optimizer='sgd',\n",
        "#               metrics=['accuracy'])\n",
        "                   \n",
        "# keras_model.fit(train_features, train_ev_rate,epochs=8, batch_size=1, verbose=1)"
      ],
      "execution_count": null,
      "outputs": []
    },
    {
      "cell_type": "code",
      "metadata": {
        "id": "_bDaODEUOchO"
      },
      "source": [
        "# keras_pred = keras_model.predict(dev_features)\n",
        "\n",
        "# score = keras_model.evaluate(dev_features, dev_ev_rate,verbose=1)\n",
        "\n",
        "# print(score)"
      ],
      "execution_count": null,
      "outputs": []
    },
    {
      "cell_type": "markdown",
      "metadata": {
        "id": "hEgR_8FLUXSz"
      },
      "source": [
        "### With binned outcome"
      ]
    },
    {
      "cell_type": "code",
      "metadata": {
        "id": "3wOauKIzUgcg"
      },
      "source": [
        "# keras_model = Sequential()\n",
        "\n",
        "# keras_model.add(Dense(8, input_shape=(264,)))\n",
        "\n",
        "# keras_model.add(Dense(8))\n",
        "\n",
        "# keras_model.add(Dense(1))\n",
        "\n",
        "# opt = SGD(learning_rate=0.6, momentum=0.9)\n",
        "\n",
        "# keras_model.compile(loss='categorical_crossentropy',\n",
        "#               optimizer=opt,\n",
        "#               metrics=['accuracy'])\n",
        "                   \n",
        "# keras_model.fit(train_features, train_ord_label, validation_data=(dev_features, dev_ord_label), epochs=8, batch_size=1, verbose=1)"
      ],
      "execution_count": null,
      "outputs": []
    },
    {
      "cell_type": "code",
      "metadata": {
        "id": "vSvyDG19egFV"
      },
      "source": [
        "# keras_pred = keras_model.predict(dev_features)\n",
        "\n",
        "# score = keras_model.evaluate(dev_features, dev_ord_label,verbose=1)\n",
        "\n",
        "# print(score)"
      ],
      "execution_count": null,
      "outputs": []
    },
    {
      "cell_type": "markdown",
      "metadata": {
        "id": "E8YHOgy3hyMh"
      },
      "source": [
        "# Small Feature Set \n",
        "\n",
        "( for early tests, lower accuracy)"
      ]
    },
    {
      "cell_type": "code",
      "metadata": {
        "id": "F_jV5hLrhsE5"
      },
      "source": [
        "small_feature_set = ['white_ratio','black_ratio','asian_ratio','latinx_ratio','white_rent_ratio',\n",
        "          'black_rent_ratio','asian_rent_ratio','ai_ratio','rb10','rb14.9','rb19.9',\n",
        "         'rb24.9','rb29.9','rb34.9','rb39.9','rb49.9','rb55','unemployed_rate']"
      ],
      "execution_count": null,
      "outputs": []
    },
    {
      "cell_type": "code",
      "metadata": {
        "id": "tP1jB7c5hdPA"
      },
      "source": [
        "# xgb_model = xgb.XGBClassifier()\n",
        "# xgb_model.fit(train_features[small_feature_set], train_labels)\n",
        "# xgb_predict = xgb_model.predict(dev_features[small_feature_set])\n",
        "# xgb_score =  metrics.f1_score(xgb_predict,dev_labels,average=\"weighted\")"
      ],
      "execution_count": null,
      "outputs": []
    },
    {
      "cell_type": "code",
      "metadata": {
        "id": "UcNOI-REh4a7"
      },
      "source": [
        "# xgb_score"
      ],
      "execution_count": null,
      "outputs": []
    },
    {
      "cell_type": "code",
      "metadata": {
        "id": "wHxCxsGlh72j"
      },
      "source": [
        "# best_score = []\n",
        "# best_C = []\n",
        "# C =  [.01,.1,.5,.75,1,2,5] # SVM regularization parameter\n",
        "\n",
        "# for c in C:\n",
        "#   lr = LogisticRegression(C= c, solver=\"lbfgs\", multi_class=\"auto\", max_iter=1000).fit(train_features[small_feature_set], train_labels)\n",
        "#   lr_predict = lr.predict(dev_features[small_feature_set])\n",
        "#   best_score.append(metrics.f1_score(lr_predict,dev_labels,average=\"weighted\"))\n",
        "#   best_C.append(c)\n",
        "\n",
        "# #find max accuracy\n",
        "# max_score = max(best_score)\n",
        "# #find index of max accuracy\n",
        "# index = best_score.index(max_score)\n",
        "# #find index for other values\n",
        "# best_c = best_C[index]\n",
        "\n",
        "# print(\"SCORE: \", max_score, \"MODEL: LR\",\"BEST C:\", best_c)\n",
        "\n",
        "\n"
      ],
      "execution_count": null,
      "outputs": []
    },
    {
      "cell_type": "markdown",
      "metadata": {
        "id": "7x5SEBpry_Ht"
      },
      "source": [
        "# Populate CA df with predictions\n",
        "3-class predictions from XGBoost\n",
        "\n",
        "Continuous Predictions from Linear Regression methods"
      ]
    },
    {
      "cell_type": "markdown",
      "metadata": {
        "id": "3Qy5N8ZEzUxE"
      },
      "source": [
        "## XGBoost to predict Eviction Labels for CA"
      ]
    },
    {
      "cell_type": "code",
      "metadata": {
        "id": "JpDJp_9Pn_Ed",
        "colab": {
          "base_uri": "https://localhost:8080/",
          "height": 127
        },
        "outputId": "846aeff8-4732-4bc8-b537-aebd07a860aa"
      },
      "source": [
        "unlabeled_data = pd.read_csv('/content/ca.csv').drop(columns=['Unnamed: 0'])\n",
        "unlabeled_data.head(1)\n"
      ],
      "execution_count": 160,
      "outputs": [
        {
          "output_type": "execute_result",
          "data": {
            "text/html": [
              "<div>\n",
              "<style scoped>\n",
              "    .dataframe tbody tr th:only-of-type {\n",
              "        vertical-align: middle;\n",
              "    }\n",
              "\n",
              "    .dataframe tbody tr th {\n",
              "        vertical-align: top;\n",
              "    }\n",
              "\n",
              "    .dataframe thead th {\n",
              "        text-align: right;\n",
              "    }\n",
              "</style>\n",
              "<table border=\"1\" class=\"dataframe\">\n",
              "  <thead>\n",
              "    <tr style=\"text-align: right;\">\n",
              "      <th></th>\n",
              "      <th>GEOID</th>\n",
              "      <th>HHIncTenOwn</th>\n",
              "      <th>HHIncTenOwn_10</th>\n",
              "      <th>HHIncTenOwn_100</th>\n",
              "      <th>HHIncTenOwn_15</th>\n",
              "      <th>HHIncTenOwn_150</th>\n",
              "      <th>HHIncTenOwn_151</th>\n",
              "      <th>HHIncTenOwn_20</th>\n",
              "      <th>HHIncTenOwn_25</th>\n",
              "      <th>HHIncTenOwn_35</th>\n",
              "      <th>HHIncTenOwn_5</th>\n",
              "      <th>HHIncTenOwn_50</th>\n",
              "      <th>HHIncTenOwn_75</th>\n",
              "      <th>HHIncTenRent</th>\n",
              "      <th>HHIncTenRent_10</th>\n",
              "      <th>HHIncTenRent_100</th>\n",
              "      <th>HHIncTenRent_15</th>\n",
              "      <th>HHIncTenRent_150</th>\n",
              "      <th>HHIncTenRent_151</th>\n",
              "      <th>HHIncTenRent_20</th>\n",
              "      <th>HHIncTenRent_25</th>\n",
              "      <th>HHIncTenRent_35</th>\n",
              "      <th>HHIncTenRent_5</th>\n",
              "      <th>HHIncTenRent_50</th>\n",
              "      <th>HHIncTenRent_75</th>\n",
              "      <th>HHIncTen_Total</th>\n",
              "      <th>HHInc_10</th>\n",
              "      <th>HHInc_100</th>\n",
              "      <th>HHInc_125</th>\n",
              "      <th>HHInc_15</th>\n",
              "      <th>HHInc_150</th>\n",
              "      <th>HHInc_20</th>\n",
              "      <th>HHInc_200</th>\n",
              "      <th>HHInc_25</th>\n",
              "      <th>HHInc_250</th>\n",
              "      <th>HHInc_30</th>\n",
              "      <th>HHInc_35</th>\n",
              "      <th>HHInc_40</th>\n",
              "      <th>HHInc_45</th>\n",
              "      <th>HHInc_50</th>\n",
              "      <th>...</th>\n",
              "      <th>County_51085</th>\n",
              "      <th>County_51087</th>\n",
              "      <th>County_51093</th>\n",
              "      <th>County_51127</th>\n",
              "      <th>County_51131</th>\n",
              "      <th>County_51145</th>\n",
              "      <th>County_51149</th>\n",
              "      <th>County_51175</th>\n",
              "      <th>County_51181</th>\n",
              "      <th>County_51183</th>\n",
              "      <th>County_51199</th>\n",
              "      <th>County_51550</th>\n",
              "      <th>County_51570</th>\n",
              "      <th>County_51595</th>\n",
              "      <th>County_51620</th>\n",
              "      <th>County_51650</th>\n",
              "      <th>County_51670</th>\n",
              "      <th>County_51700</th>\n",
              "      <th>County_51710</th>\n",
              "      <th>County_51730</th>\n",
              "      <th>County_51735</th>\n",
              "      <th>County_51740</th>\n",
              "      <th>County_51760</th>\n",
              "      <th>County_51800</th>\n",
              "      <th>County_51810</th>\n",
              "      <th>County_51830</th>\n",
              "      <th>County_53033</th>\n",
              "      <th>County_53053</th>\n",
              "      <th>County_53061</th>\n",
              "      <th>County_53073</th>\n",
              "      <th>County_80010</th>\n",
              "      <th>County_80019</th>\n",
              "      <th>County_80050</th>\n",
              "      <th>County_80190</th>\n",
              "      <th>County_80310</th>\n",
              "      <th>County_80319</th>\n",
              "      <th>County_80350</th>\n",
              "      <th>County_80470</th>\n",
              "      <th>County_80590</th>\n",
              "      <th>County_80599</th>\n",
              "    </tr>\n",
              "  </thead>\n",
              "  <tbody>\n",
              "    <tr>\n",
              "      <th>0</th>\n",
              "      <td>6001400100</td>\n",
              "      <td>1150</td>\n",
              "      <td>10</td>\n",
              "      <td>87</td>\n",
              "      <td>0</td>\n",
              "      <td>132</td>\n",
              "      <td>713</td>\n",
              "      <td>43</td>\n",
              "      <td>22</td>\n",
              "      <td>55</td>\n",
              "      <td>0</td>\n",
              "      <td>26</td>\n",
              "      <td>62</td>\n",
              "      <td>143</td>\n",
              "      <td>0</td>\n",
              "      <td>16</td>\n",
              "      <td>7</td>\n",
              "      <td>0</td>\n",
              "      <td>93</td>\n",
              "      <td>0</td>\n",
              "      <td>0</td>\n",
              "      <td>9</td>\n",
              "      <td>0</td>\n",
              "      <td>0</td>\n",
              "      <td>18</td>\n",
              "      <td>1293</td>\n",
              "      <td>10</td>\n",
              "      <td>103</td>\n",
              "      <td>68</td>\n",
              "      <td>7</td>\n",
              "      <td>64</td>\n",
              "      <td>43</td>\n",
              "      <td>96</td>\n",
              "      <td>22</td>\n",
              "      <td>710</td>\n",
              "      <td>14</td>\n",
              "      <td>50</td>\n",
              "      <td>0</td>\n",
              "      <td>0</td>\n",
              "      <td>26</td>\n",
              "      <td>...</td>\n",
              "      <td>0</td>\n",
              "      <td>0</td>\n",
              "      <td>0</td>\n",
              "      <td>0</td>\n",
              "      <td>0</td>\n",
              "      <td>0</td>\n",
              "      <td>0</td>\n",
              "      <td>0</td>\n",
              "      <td>0</td>\n",
              "      <td>0</td>\n",
              "      <td>0</td>\n",
              "      <td>0</td>\n",
              "      <td>0</td>\n",
              "      <td>0</td>\n",
              "      <td>0</td>\n",
              "      <td>0</td>\n",
              "      <td>0</td>\n",
              "      <td>0</td>\n",
              "      <td>0</td>\n",
              "      <td>0</td>\n",
              "      <td>0</td>\n",
              "      <td>0</td>\n",
              "      <td>0</td>\n",
              "      <td>0</td>\n",
              "      <td>0</td>\n",
              "      <td>0</td>\n",
              "      <td>0</td>\n",
              "      <td>0</td>\n",
              "      <td>0</td>\n",
              "      <td>0</td>\n",
              "      <td>0</td>\n",
              "      <td>0</td>\n",
              "      <td>0</td>\n",
              "      <td>0</td>\n",
              "      <td>0</td>\n",
              "      <td>0</td>\n",
              "      <td>0</td>\n",
              "      <td>0</td>\n",
              "      <td>0</td>\n",
              "      <td>0</td>\n",
              "    </tr>\n",
              "  </tbody>\n",
              "</table>\n",
              "<p>1 rows × 480 columns</p>\n",
              "</div>"
            ],
            "text/plain": [
              "        GEOID  HHIncTenOwn  ...  County_80590  County_80599\n",
              "0  6001400100         1150  ...             0             0\n",
              "\n",
              "[1 rows x 480 columns]"
            ]
          },
          "metadata": {
            "tags": []
          },
          "execution_count": 160
        }
      ]
    },
    {
      "cell_type": "code",
      "metadata": {
        "colab": {
          "base_uri": "https://localhost:8080/"
        },
        "id": "H913quoa0ljY",
        "outputId": "6dd52e90-d42e-4652-9d84-2eab0c68b4cd"
      },
      "source": [
        "unlabeled_data.shape"
      ],
      "execution_count": 161,
      "outputs": [
        {
          "output_type": "execute_result",
          "data": {
            "text/plain": [
              "(7860, 480)"
            ]
          },
          "metadata": {
            "tags": []
          },
          "execution_count": 161
        }
      ]
    },
    {
      "cell_type": "code",
      "metadata": {
        "colab": {
          "base_uri": "https://localhost:8080/"
        },
        "id": "3OsdqItm3PgJ",
        "outputId": "27e97dc7-afad-4cfb-fbd9-591229222b12"
      },
      "source": [
        " dev_labels.value_counts()"
      ],
      "execution_count": 162,
      "outputs": [
        {
          "output_type": "execute_result",
          "data": {
            "text/plain": [
              "Under 2%    901\n",
              "2%-5%       514\n",
              "Over 5%     257\n",
              "Name: ev_label, dtype: int64"
            ]
          },
          "metadata": {
            "tags": []
          },
          "execution_count": 162
        }
      ]
    },
    {
      "cell_type": "code",
      "metadata": {
        "id": "ATfmXVcE46um"
      },
      "source": [
        "# Make sure ca_features has the same column order as training/dev for xgb\n",
        "unlabeled_data = unlabeled_data[dev_features.columns.to_list()]"
      ],
      "execution_count": 163,
      "outputs": []
    },
    {
      "cell_type": "code",
      "metadata": {
        "id": "uzpVQU460VkF"
      },
      "source": [
        "xgb_predict_ca = xgb_model.predict(unlabeled_data)"
      ],
      "execution_count": 164,
      "outputs": []
    },
    {
      "cell_type": "code",
      "metadata": {
        "id": "4qiey6An5jrP"
      },
      "source": [
        "labeled_ca = unlabeled_data\n",
        "labeled_ca.insert(loc = 0,\n",
        "                   column = \"pred_ev_label\",\n",
        "                   value= xgb_predict_ca,\n",
        "                   allow_duplicates = True)"
      ],
      "execution_count": 165,
      "outputs": []
    },
    {
      "cell_type": "code",
      "metadata": {
        "colab": {
          "base_uri": "https://localhost:8080/"
        },
        "id": "sDGAuyiL5x4o",
        "outputId": "b07e21a6-e903-430d-c539-cd351e3cb1ce"
      },
      "source": [
        "labeled_ca.pred_ev_label.value_counts(sort=False)"
      ],
      "execution_count": 166,
      "outputs": [
        {
          "output_type": "execute_result",
          "data": {
            "text/plain": [
              "Under 2%    6735\n",
              "Over 5%       55\n",
              "2%-5%       1070\n",
              "Name: pred_ev_label, dtype: int64"
            ]
          },
          "metadata": {
            "tags": []
          },
          "execution_count": 166
        }
      ]
    },
    {
      "cell_type": "markdown",
      "metadata": {
        "id": "4T57E49Ozp21"
      },
      "source": [
        "## Save CA data with XGB predictions"
      ]
    },
    {
      "cell_type": "code",
      "metadata": {
        "id": "W6YvqFff1fJH"
      },
      "source": [
        "labeled_ca.to_csv('ca_with_predictions.csv')"
      ],
      "execution_count": 168,
      "outputs": []
    },
    {
      "cell_type": "markdown",
      "metadata": {
        "id": "I9LPGg27au6S"
      },
      "source": [
        "## Linear Regression to predict ev_rate\n",
        "- Linear regression to predict ev_rate (rather than multiclass outcome, predicting continuous outcome)"
      ]
    },
    {
      "cell_type": "code",
      "metadata": {
        "colab": {
          "base_uri": "https://localhost:8080/"
        },
        "id": "QHV1SYAJyyLf",
        "outputId": "08095b9f-4a42-42ae-c9c8-364e65dee29a"
      },
      "source": [
        "# Use model to predict EV rates in CA (Does not work on NaN)\n",
        "# 5079/8057 tracts will have eviction predictions. (63%)\n",
        "unlabeled_drop_na = unlabeled_data.dropna()\n",
        "unlabeled_drop_na.shape"
      ],
      "execution_count": 153,
      "outputs": [
        {
          "output_type": "execute_result",
          "data": {
            "text/plain": [
              "(4886, 480)"
            ]
          },
          "metadata": {
            "tags": []
          },
          "execution_count": 153
        }
      ]
    },
    {
      "cell_type": "code",
      "metadata": {
        "colab": {
          "base_uri": "https://localhost:8080/"
        },
        "id": "Dka7Zb3pzEZu",
        "outputId": "70c0ada7-61de-4045-f65b-a6fb5f844875"
      },
      "source": [
        "# Use Linear Regression to Predict EV_rate\n",
        "lm = LinearRegression()\n",
        "lm.fit(train_features, train_ev_rate)\n",
        "lm_predict = lm.predict(dev_features)\n",
        "lm_predict"
      ],
      "execution_count": 154,
      "outputs": [
        {
          "output_type": "execute_result",
          "data": {
            "text/plain": [
              "array([0.02248862, 0.02758013, 0.01001057, ..., 0.01536671, 0.04622944,\n",
              "       0.04587392])"
            ]
          },
          "metadata": {
            "tags": []
          },
          "execution_count": 154
        }
      ]
    },
    {
      "cell_type": "code",
      "metadata": {
        "colab": {
          "base_uri": "https://localhost:8080/",
          "height": 312
        },
        "id": "MWMvIJq40Tno",
        "outputId": "ff9b78dc-84c6-4f81-9cc2-513a4a63ef00"
      },
      "source": [
        "print('Mean squared error: %.10f'\n",
        "      % metrics.mean_squared_error(dev_ev_rate, lm_predict))\n",
        "# 1.0 is perfect prediction, 0 is predicting constant E[y]\n",
        "print('Coefficient of determination: %.10f'\n",
        "      % metrics.r2_score(dev_ev_rate, lm_predict))\n",
        "# Dev predictions vs. True Labels\n",
        "plt.scatter(dev_ev_rate, lm_predict,  color='black')"
      ],
      "execution_count": 155,
      "outputs": [
        {
          "output_type": "stream",
          "text": [
            "Mean squared error: 5249.8145757720\n",
            "Coefficient of determination: -8195224.4745432464\n"
          ],
          "name": "stdout"
        },
        {
          "output_type": "execute_result",
          "data": {
            "text/plain": [
              "<matplotlib.collections.PathCollection at 0x7fa9d3ec2b10>"
            ]
          },
          "metadata": {
            "tags": []
          },
          "execution_count": 155
        },
        {
          "output_type": "display_data",
          "data": {
            "image/png": "[encoded data removed]",
            "text/plain": [
              "<Figure size 432x288 with 1 Axes>"
            ]
          },
          "metadata": {
            "tags": [],
            "needs_background": "light"
          }
        }
      ]
    },
    {
      "cell_type": "code",
      "metadata": {
        "id": "bblzmeBo1Bjo"
      },
      "source": [
        "# Transform all negative predictions to 0 (big improvement on the model)\n",
        "lm_predict[lm_predict < 0] = 0"
      ],
      "execution_count": 156,
      "outputs": []
    },
    {
      "cell_type": "code",
      "metadata": {
        "colab": {
          "base_uri": "https://localhost:8080/",
          "height": 312
        },
        "id": "zJ6xyJM10n_L",
        "outputId": "a1d6bbd7-f1c2-4779-914f-00681167dc8a"
      },
      "source": [
        "print('Mean squared error: %.10f'\n",
        "      % metrics.mean_squared_error(dev_ev_rate, lm_predict))\n",
        "# 1.0 is perfect prediction, 0 is predicting constant E[y]\n",
        "print('Coefficient of determination: %.10f'\n",
        "      % metrics.r2_score(dev_ev_rate, lm_predict))\n",
        "# Dev predictions vs. True Labels\n",
        "plt.scatter(dev_ev_rate, lm_predict,  color='black')"
      ],
      "execution_count": 157,
      "outputs": [
        {
          "output_type": "stream",
          "text": [
            "Mean squared error: 363.9828940454\n",
            "Coefficient of determination: -568194.6652992619\n"
          ],
          "name": "stdout"
        },
        {
          "output_type": "execute_result",
          "data": {
            "text/plain": [
              "<matplotlib.collections.PathCollection at 0x7fa9d3ec2990>"
            ]
          },
          "metadata": {
            "tags": []
          },
          "execution_count": 157
        },
        {
          "output_type": "display_data",
          "data": {
            "image/png": "[encoded data removed]",
            "text/plain": [
              "<Figure size 432x288 with 1 Axes>"
            ]
          },
          "metadata": {
            "tags": [],
            "needs_background": "light"
          }
        }
      ]
    },
    {
      "cell_type": "code",
      "metadata": {
        "colab": {
          "base_uri": "https://localhost:8080/",
          "height": 291
        },
        "id": "tqRzRgYLv-hp",
        "outputId": "355ccfd1-e0b8-4157-dc5d-4a0d2f2e16d1"
      },
      "source": [
        "devpred_describe = pd.DataFrame(lm_predict)\n",
        "devpred_describe.describe()"
      ],
      "execution_count": null,
      "outputs": [
        {
          "output_type": "execute_result",
          "data": {
            "text/html": [
              "<div>\n",
              "<style scoped>\n",
              "    .dataframe tbody tr th:only-of-type {\n",
              "        vertical-align: middle;\n",
              "    }\n",
              "\n",
              "    .dataframe tbody tr th {\n",
              "        vertical-align: top;\n",
              "    }\n",
              "\n",
              "    .dataframe thead th {\n",
              "        text-align: right;\n",
              "    }\n",
              "</style>\n",
              "<table border=\"1\" class=\"dataframe\">\n",
              "  <thead>\n",
              "    <tr style=\"text-align: right;\">\n",
              "      <th></th>\n",
              "      <th>0</th>\n",
              "    </tr>\n",
              "  </thead>\n",
              "  <tbody>\n",
              "    <tr>\n",
              "      <th>count</th>\n",
              "      <td>1672.000000</td>\n",
              "    </tr>\n",
              "    <tr>\n",
              "      <th>mean</th>\n",
              "      <td>0.027263</td>\n",
              "    </tr>\n",
              "    <tr>\n",
              "      <th>std</th>\n",
              "      <td>0.020169</td>\n",
              "    </tr>\n",
              "    <tr>\n",
              "      <th>min</th>\n",
              "      <td>0.000000</td>\n",
              "    </tr>\n",
              "    <tr>\n",
              "      <th>25%</th>\n",
              "      <td>0.012301</td>\n",
              "    </tr>\n",
              "    <tr>\n",
              "      <th>50%</th>\n",
              "      <td>0.022820</td>\n",
              "    </tr>\n",
              "    <tr>\n",
              "      <th>75%</th>\n",
              "      <td>0.038158</td>\n",
              "    </tr>\n",
              "    <tr>\n",
              "      <th>max</th>\n",
              "      <td>0.145667</td>\n",
              "    </tr>\n",
              "  </tbody>\n",
              "</table>\n",
              "</div>"
            ],
            "text/plain": [
              "                 0\n",
              "count  1672.000000\n",
              "mean      0.027263\n",
              "std       0.020169\n",
              "min       0.000000\n",
              "25%       0.012301\n",
              "50%       0.022820\n",
              "75%       0.038158\n",
              "max       0.145667"
            ]
          },
          "metadata": {
            "tags": []
          },
          "execution_count": 215
        }
      ]
    },
    {
      "cell_type": "markdown",
      "metadata": {
        "id": "Cf5C8OKW2Vek"
      },
      "source": [
        "### Use model to populate CA data with `ev_rate_pred`"
      ]
    },
    {
      "cell_type": "code",
      "metadata": {
        "id": "XjqDqHKl2mNJ"
      },
      "source": [
        "ca_predict_lm = lm.predict(unlabeled_drop_na)"
      ],
      "execution_count": null,
      "outputs": []
    },
    {
      "cell_type": "code",
      "metadata": {
        "id": "yil65dsI3KZ7"
      },
      "source": [
        "# Transform all negative predictions to 0 (big improvement on the model)\n",
        "ca_predict_lm[ca_predict_lm < 0] = 0"
      ],
      "execution_count": null,
      "outputs": []
    },
    {
      "cell_type": "code",
      "metadata": {
        "id": "gI749gmL2glO",
        "colab": {
          "base_uri": "https://localhost:8080/",
          "height": 291
        },
        "outputId": "14f0ee4e-9227-4d48-ee2c-e44de3eaffb8"
      },
      "source": [
        "# Bad bad model\n",
        "capred_describe = pd.DataFrame(ca_predict_lm)\n",
        "capred_describe.describe()"
      ],
      "execution_count": null,
      "outputs": [
        {
          "output_type": "execute_result",
          "data": {
            "text/html": [
              "<div>\n",
              "<style scoped>\n",
              "    .dataframe tbody tr th:only-of-type {\n",
              "        vertical-align: middle;\n",
              "    }\n",
              "\n",
              "    .dataframe tbody tr th {\n",
              "        vertical-align: top;\n",
              "    }\n",
              "\n",
              "    .dataframe thead th {\n",
              "        text-align: right;\n",
              "    }\n",
              "</style>\n",
              "<table border=\"1\" class=\"dataframe\">\n",
              "  <thead>\n",
              "    <tr style=\"text-align: right;\">\n",
              "      <th></th>\n",
              "      <th>0</th>\n",
              "    </tr>\n",
              "  </thead>\n",
              "  <tbody>\n",
              "    <tr>\n",
              "      <th>count</th>\n",
              "      <td>5079.000000</td>\n",
              "    </tr>\n",
              "    <tr>\n",
              "      <th>mean</th>\n",
              "      <td>43.317832</td>\n",
              "    </tr>\n",
              "    <tr>\n",
              "      <th>std</th>\n",
              "      <td>16.789440</td>\n",
              "    </tr>\n",
              "    <tr>\n",
              "      <th>min</th>\n",
              "      <td>0.000000</td>\n",
              "    </tr>\n",
              "    <tr>\n",
              "      <th>25%</th>\n",
              "      <td>32.104598</td>\n",
              "    </tr>\n",
              "    <tr>\n",
              "      <th>50%</th>\n",
              "      <td>46.408334</td>\n",
              "    </tr>\n",
              "    <tr>\n",
              "      <th>75%</th>\n",
              "      <td>57.639283</td>\n",
              "    </tr>\n",
              "    <tr>\n",
              "      <th>max</th>\n",
              "      <td>76.937152</td>\n",
              "    </tr>\n",
              "  </tbody>\n",
              "</table>\n",
              "</div>"
            ],
            "text/plain": [
              "                 0\n",
              "count  5079.000000\n",
              "mean     43.317832\n",
              "std      16.789440\n",
              "min       0.000000\n",
              "25%      32.104598\n",
              "50%      46.408334\n",
              "75%      57.639283\n",
              "max      76.937152"
            ]
          },
          "metadata": {
            "tags": []
          },
          "execution_count": 218
        }
      ]
    },
    {
      "cell_type": "markdown",
      "metadata": {
        "id": "UopCZdJ7Gtsk"
      },
      "source": [
        "## Ridge Regression to Predict `ev_rate`"
      ]
    },
    {
      "cell_type": "code",
      "metadata": {
        "id": "o-PUbDyNG6eV"
      },
      "source": [
        "from sklearn.linear_model import Ridge"
      ],
      "execution_count": null,
      "outputs": []
    },
    {
      "cell_type": "code",
      "metadata": {
        "id": "h0l3vh5tIaZw"
      },
      "source": [
        "# Normalize feature data\n",
        "train_features_norm = train_features.values\n",
        "min_max_scaler = preprocessing.MinMaxScaler()\n",
        "train_features_norm = min_max_scaler.fit_transform(train_features.values)\n",
        "\n",
        "dev_features_norm = min_max_scaler.fit_transform(dev_features.values)"
      ],
      "execution_count": null,
      "outputs": []
    },
    {
      "cell_type": "code",
      "metadata": {
        "colab": {
          "base_uri": "https://localhost:8080/"
        },
        "id": "mw1fdqbzGxqf",
        "outputId": "1e24665c-26ba-4b8f-f202-3e8cd11136cf"
      },
      "source": [
        "rdg = Ridge()\n",
        "rdg.fit(train_features_norm, train_ev_rate)\n",
        "rdg_predict = rdg.predict(dev_features_norm)\n",
        "rdg_predict"
      ],
      "execution_count": null,
      "outputs": [
        {
          "output_type": "execute_result",
          "data": {
            "text/plain": [
              "array([0.02136638, 0.02932599, 0.00862951, ..., 0.02310487, 0.04825894,\n",
              "       0.04980022])"
            ]
          },
          "metadata": {
            "tags": []
          },
          "execution_count": 224
        }
      ]
    },
    {
      "cell_type": "code",
      "metadata": {
        "id": "s9KWAxyMHXb3"
      },
      "source": [
        "rdg_predict[rdg_predict < 0] = 0"
      ],
      "execution_count": null,
      "outputs": []
    },
    {
      "cell_type": "code",
      "metadata": {
        "colab": {
          "base_uri": "https://localhost:8080/",
          "height": 312
        },
        "id": "lmjpP5iRGxzC",
        "outputId": "ac62bbaf-f4de-4dd4-c4c2-b1463065ac8e"
      },
      "source": [
        "print('Mean squared error: %.10f'\n",
        "      % metrics.mean_squared_error(dev_ev_rate, rdg_predict))\n",
        "# 1.0 is perfect prediction, 0 is predicting constant E[y]\n",
        "print('Coefficient of determination: %.10f'\n",
        "      % metrics.r2_score(dev_ev_rate, rdg_predict))\n",
        "# Dev predictions vs. True Labels\n",
        "plt.scatter(dev_ev_rate, rdg_predict,  color='black')"
      ],
      "execution_count": null,
      "outputs": [
        {
          "output_type": "stream",
          "text": [
            "Mean squared error: 0.0002982591\n",
            "Coefficient of determination: 0.5344025409\n"
          ],
          "name": "stdout"
        },
        {
          "output_type": "execute_result",
          "data": {
            "text/plain": [
              "<matplotlib.collections.PathCollection at 0x7f1aa8a14fd0>"
            ]
          },
          "metadata": {
            "tags": []
          },
          "execution_count": 226
        },
        {
          "output_type": "display_data",
          "data": {
            "image/png": "[encoded data removed]",
            "text/plain": [
              "<Figure size 432x288 with 1 Axes>"
            ]
          },
          "metadata": {
            "tags": [],
            "needs_background": "light"
          }
        }
      ]
    },
    {
      "cell_type": "code",
      "metadata": {
        "id": "1NhqSvtrJaDo"
      },
      "source": [
        "# Normalize unlabeled data\n",
        "ca_features_norm =preprocessing.normalize(unlabeled_drop_na.values)\n"
      ],
      "execution_count": null,
      "outputs": []
    },
    {
      "cell_type": "code",
      "metadata": {
        "colab": {
          "base_uri": "https://localhost:8080/",
          "height": 291
        },
        "id": "n8GsA3ChHuXQ",
        "outputId": "7321fd72-50bd-4bbb-dd32-d1cdd5689187"
      },
      "source": [
        "# Predict on CA data BAD BAD BAD\n",
        "ca_predict_rdg = rdg.predict(ca_features_norm)\n",
        "# ca_predict_rdg[ca_predict_rdg < 0 ] = 0\n",
        "capred_describe = pd.DataFrame(ca_predict_rdg)\n",
        "capred_describe.describe()"
      ],
      "execution_count": null,
      "outputs": [
        {
          "output_type": "execute_result",
          "data": {
            "text/html": [
              "<div>\n",
              "<style scoped>\n",
              "    .dataframe tbody tr th:only-of-type {\n",
              "        vertical-align: middle;\n",
              "    }\n",
              "\n",
              "    .dataframe tbody tr th {\n",
              "        vertical-align: top;\n",
              "    }\n",
              "\n",
              "    .dataframe thead th {\n",
              "        text-align: right;\n",
              "    }\n",
              "</style>\n",
              "<table border=\"1\" class=\"dataframe\">\n",
              "  <thead>\n",
              "    <tr style=\"text-align: right;\">\n",
              "      <th></th>\n",
              "      <th>0</th>\n",
              "    </tr>\n",
              "  </thead>\n",
              "  <tbody>\n",
              "    <tr>\n",
              "      <th>count</th>\n",
              "      <td>5.079000e+03</td>\n",
              "    </tr>\n",
              "    <tr>\n",
              "      <th>mean</th>\n",
              "      <td>-1.706779e-02</td>\n",
              "    </tr>\n",
              "    <tr>\n",
              "      <th>std</th>\n",
              "      <td>3.717063e-08</td>\n",
              "    </tr>\n",
              "    <tr>\n",
              "      <th>min</th>\n",
              "      <td>-1.706800e-02</td>\n",
              "    </tr>\n",
              "    <tr>\n",
              "      <th>25%</th>\n",
              "      <td>-1.706781e-02</td>\n",
              "    </tr>\n",
              "    <tr>\n",
              "      <th>50%</th>\n",
              "      <td>-1.706779e-02</td>\n",
              "    </tr>\n",
              "    <tr>\n",
              "      <th>75%</th>\n",
              "      <td>-1.706777e-02</td>\n",
              "    </tr>\n",
              "    <tr>\n",
              "      <th>max</th>\n",
              "      <td>-1.706768e-02</td>\n",
              "    </tr>\n",
              "  </tbody>\n",
              "</table>\n",
              "</div>"
            ],
            "text/plain": [
              "                  0\n",
              "count  5.079000e+03\n",
              "mean  -1.706779e-02\n",
              "std    3.717063e-08\n",
              "min   -1.706800e-02\n",
              "25%   -1.706781e-02\n",
              "50%   -1.706779e-02\n",
              "75%   -1.706777e-02\n",
              "max   -1.706768e-02"
            ]
          },
          "metadata": {
            "tags": []
          },
          "execution_count": 228
        }
      ]
    },
    {
      "cell_type": "markdown",
      "metadata": {
        "id": "0lET1ZlyKrvS"
      },
      "source": [
        "## Ada Boost Regressor to predict `ev_rate`"
      ]
    },
    {
      "cell_type": "code",
      "metadata": {
        "id": "_8rzj0jmKrIh"
      },
      "source": [
        "from sklearn.ensemble import AdaBoostRegressor"
      ],
      "execution_count": null,
      "outputs": []
    },
    {
      "cell_type": "code",
      "metadata": {
        "id": "Tw5wPBbIK0OL"
      },
      "source": [
        "abr_model = AdaBoostRegressor().fit(train_features, train_ev_rate)\n",
        "abr_predict = abr_model.predict(dev_features)"
      ],
      "execution_count": null,
      "outputs": []
    },
    {
      "cell_type": "code",
      "metadata": {
        "id": "Yv92vNW5T55O"
      },
      "source": [
        "# Replace negative with 0 [almost no change to model performance]\n",
        "abr_predict[abr_predict < 0] = 0"
      ],
      "execution_count": null,
      "outputs": []
    },
    {
      "cell_type": "code",
      "metadata": {
        "colab": {
          "base_uri": "https://localhost:8080/"
        },
        "id": "MzPvAb5iNAUE",
        "outputId": "218a8d5a-9f9f-40a9-98a8-3b609443bbb6"
      },
      "source": [
        "# w/o 0 replacement 0.0005695134378219796\n",
        "metrics.mean_squared_error(dev_ev_rate, abr_predict)"
      ],
      "execution_count": null,
      "outputs": [
        {
          "output_type": "execute_result",
          "data": {
            "text/plain": [
              "0.0005423350354599422"
            ]
          },
          "metadata": {
            "tags": []
          },
          "execution_count": 232
        }
      ]
    },
    {
      "cell_type": "code",
      "metadata": {
        "colab": {
          "base_uri": "https://localhost:8080/"
        },
        "id": "HFSkMvFfNKeo",
        "outputId": "4f3a4416-0910-4205-eef1-13122df13e8c"
      },
      "source": [
        "# w/o 0 replacement 0.11096078416310962\n",
        "metrics.r2_score(dev_ev_rate, abr_predict)"
      ],
      "execution_count": null,
      "outputs": [
        {
          "output_type": "execute_result",
          "data": {
            "text/plain": [
              "0.15338764175588537"
            ]
          },
          "metadata": {
            "tags": []
          },
          "execution_count": 233
        }
      ]
    },
    {
      "cell_type": "code",
      "metadata": {
        "colab": {
          "base_uri": "https://localhost:8080/",
          "height": 280
        },
        "id": "_A8as0TwNb9Q",
        "outputId": "20c24c14-ebd2-4ca4-b691-570e710f91dc"
      },
      "source": [
        "# Dev predictions vs. True Labels\n",
        "plt.scatter(dev_ev_rate, abr_predict,  color='black')"
      ],
      "execution_count": null,
      "outputs": [
        {
          "output_type": "execute_result",
          "data": {
            "text/plain": [
              "<matplotlib.collections.PathCollection at 0x7f1aa89a2b90>"
            ]
          },
          "metadata": {
            "tags": []
          },
          "execution_count": 234
        },
        {
          "output_type": "display_data",
          "data": {
            "image/png": "[encoded data removed]",
            "text/plain": [
              "<Figure size 432x288 with 1 Axes>"
            ]
          },
          "metadata": {
            "tags": [],
            "needs_background": "light"
          }
        }
      ]
    },
    {
      "cell_type": "code",
      "metadata": {
        "colab": {
          "base_uri": "https://localhost:8080/",
          "height": 291
        },
        "id": "MG9yw51FNnXd",
        "outputId": "dd5868bf-ec85-4e1a-caeb-eb5a72da0865"
      },
      "source": [
        "# Predict on CA data\n",
        "ca_predict_abr = abr_model.predict(unlabeled_drop_na)\n",
        "# ca_predict_rdg[ca_predict_rdg < 0 ] = 0\n",
        "capred_describe = pd.DataFrame(ca_predict_abr)\n",
        "capred_describe.describe()"
      ],
      "execution_count": null,
      "outputs": [
        {
          "output_type": "execute_result",
          "data": {
            "text/html": [
              "<div>\n",
              "<style scoped>\n",
              "    .dataframe tbody tr th:only-of-type {\n",
              "        vertical-align: middle;\n",
              "    }\n",
              "\n",
              "    .dataframe tbody tr th {\n",
              "        vertical-align: top;\n",
              "    }\n",
              "\n",
              "    .dataframe thead th {\n",
              "        text-align: right;\n",
              "    }\n",
              "</style>\n",
              "<table border=\"1\" class=\"dataframe\">\n",
              "  <thead>\n",
              "    <tr style=\"text-align: right;\">\n",
              "      <th></th>\n",
              "      <th>0</th>\n",
              "    </tr>\n",
              "  </thead>\n",
              "  <tbody>\n",
              "    <tr>\n",
              "      <th>count</th>\n",
              "      <td>5079.000000</td>\n",
              "    </tr>\n",
              "    <tr>\n",
              "      <th>mean</th>\n",
              "      <td>0.034690</td>\n",
              "    </tr>\n",
              "    <tr>\n",
              "      <th>std</th>\n",
              "      <td>0.008805</td>\n",
              "    </tr>\n",
              "    <tr>\n",
              "      <th>min</th>\n",
              "      <td>0.022206</td>\n",
              "    </tr>\n",
              "    <tr>\n",
              "      <th>25%</th>\n",
              "      <td>0.028075</td>\n",
              "    </tr>\n",
              "    <tr>\n",
              "      <th>50%</th>\n",
              "      <td>0.033633</td>\n",
              "    </tr>\n",
              "    <tr>\n",
              "      <th>75%</th>\n",
              "      <td>0.038383</td>\n",
              "    </tr>\n",
              "    <tr>\n",
              "      <th>max</th>\n",
              "      <td>0.062537</td>\n",
              "    </tr>\n",
              "  </tbody>\n",
              "</table>\n",
              "</div>"
            ],
            "text/plain": [
              "                 0\n",
              "count  5079.000000\n",
              "mean      0.034690\n",
              "std       0.008805\n",
              "min       0.022206\n",
              "25%       0.028075\n",
              "50%       0.033633\n",
              "75%       0.038383\n",
              "max       0.062537"
            ]
          },
          "metadata": {
            "tags": []
          },
          "execution_count": 235
        }
      ]
    },
    {
      "cell_type": "code",
      "metadata": {
        "id": "qIMeSO1tVNJy"
      },
      "source": [
        "# Merge into unlabeled_drop_na\n",
        "evpred_ca_dropna = unlabeled_drop_na\n",
        "evpred_ca_dropna.insert(loc = 0,\n",
        "                   column = \"pred_ev_rate\",\n",
        "                   value= ca_predict_abr,\n",
        "                   allow_duplicates = True)"
      ],
      "execution_count": null,
      "outputs": []
    },
    {
      "cell_type": "markdown",
      "metadata": {
        "id": "c-eRHE1oPeIF"
      },
      "source": [
        "# Merge predicted classes and rates into unlabeled data"
      ]
    },
    {
      "cell_type": "code",
      "metadata": {
        "colab": {
          "base_uri": "https://localhost:8080/",
          "height": 201
        },
        "id": "LGgZEvv3WN8u",
        "outputId": "78bdcd84-9876-4dda-f083-3b63bc98c32e"
      },
      "source": [
        "evrate_preds_ca = evpred_ca_dropna[['pred_ev_rate', 'GEOID']]\n",
        "evrate_preds_ca.head()"
      ],
      "execution_count": null,
      "outputs": [
        {
          "output_type": "execute_result",
          "data": {
            "text/html": [
              "<div>\n",
              "<style scoped>\n",
              "    .dataframe tbody tr th:only-of-type {\n",
              "        vertical-align: middle;\n",
              "    }\n",
              "\n",
              "    .dataframe tbody tr th {\n",
              "        vertical-align: top;\n",
              "    }\n",
              "\n",
              "    .dataframe thead th {\n",
              "        text-align: right;\n",
              "    }\n",
              "</style>\n",
              "<table border=\"1\" class=\"dataframe\">\n",
              "  <thead>\n",
              "    <tr style=\"text-align: right;\">\n",
              "      <th></th>\n",
              "      <th>pred_ev_rate</th>\n",
              "      <th>GEOID</th>\n",
              "    </tr>\n",
              "  </thead>\n",
              "  <tbody>\n",
              "    <tr>\n",
              "      <th>0</th>\n",
              "      <td>0.037861</td>\n",
              "      <td>6001400100</td>\n",
              "    </tr>\n",
              "    <tr>\n",
              "      <th>1</th>\n",
              "      <td>0.037861</td>\n",
              "      <td>6001400200</td>\n",
              "    </tr>\n",
              "    <tr>\n",
              "      <th>2</th>\n",
              "      <td>0.039514</td>\n",
              "      <td>6001400300</td>\n",
              "    </tr>\n",
              "    <tr>\n",
              "      <th>3</th>\n",
              "      <td>0.035692</td>\n",
              "      <td>6001400400</td>\n",
              "    </tr>\n",
              "    <tr>\n",
              "      <th>4</th>\n",
              "      <td>0.052593</td>\n",
              "      <td>6001400500</td>\n",
              "    </tr>\n",
              "  </tbody>\n",
              "</table>\n",
              "</div>"
            ],
            "text/plain": [
              "   pred_ev_rate       GEOID\n",
              "0      0.037861  6001400100\n",
              "1      0.037861  6001400200\n",
              "2      0.039514  6001400300\n",
              "3      0.035692  6001400400\n",
              "4      0.052593  6001400500"
            ]
          },
          "metadata": {
            "tags": []
          },
          "execution_count": 76
        }
      ]
    },
    {
      "cell_type": "code",
      "metadata": {
        "colab": {
          "base_uri": "https://localhost:8080/",
          "height": 127
        },
        "id": "x7xiHwPVWRSj",
        "outputId": "ab36eaa5-93e1-4990-dc3e-6a77f971c064"
      },
      "source": [
        "labeled_ca.head(1)"
      ],
      "execution_count": null,
      "outputs": [
        {
          "output_type": "execute_result",
          "data": {
            "text/html": [
              "<div>\n",
              "<style scoped>\n",
              "    .dataframe tbody tr th:only-of-type {\n",
              "        vertical-align: middle;\n",
              "    }\n",
              "\n",
              "    .dataframe tbody tr th {\n",
              "        vertical-align: top;\n",
              "    }\n",
              "\n",
              "    .dataframe thead th {\n",
              "        text-align: right;\n",
              "    }\n",
              "</style>\n",
              "<table border=\"1\" class=\"dataframe\">\n",
              "  <thead>\n",
              "    <tr style=\"text-align: right;\">\n",
              "      <th></th>\n",
              "      <th>pred_ev_label</th>\n",
              "      <th>GEOID</th>\n",
              "      <th>HHIncTenOwn</th>\n",
              "      <th>HHIncTenOwn_10</th>\n",
              "      <th>HHIncTenOwn_100</th>\n",
              "      <th>HHIncTenOwn_15</th>\n",
              "      <th>HHIncTenOwn_150</th>\n",
              "      <th>HHIncTenOwn_151</th>\n",
              "      <th>HHIncTenOwn_20</th>\n",
              "      <th>HHIncTenOwn_25</th>\n",
              "      <th>HHIncTenOwn_35</th>\n",
              "      <th>HHIncTenOwn_5</th>\n",
              "      <th>HHIncTenOwn_50</th>\n",
              "      <th>HHIncTenOwn_75</th>\n",
              "      <th>HHIncTenRent</th>\n",
              "      <th>HHIncTenRent_10</th>\n",
              "      <th>HHIncTenRent_100</th>\n",
              "      <th>HHIncTenRent_15</th>\n",
              "      <th>HHIncTenRent_150</th>\n",
              "      <th>HHIncTenRent_151</th>\n",
              "      <th>HHIncTenRent_20</th>\n",
              "      <th>HHIncTenRent_25</th>\n",
              "      <th>HHIncTenRent_35</th>\n",
              "      <th>HHIncTenRent_5</th>\n",
              "      <th>HHIncTenRent_50</th>\n",
              "      <th>HHIncTenRent_75</th>\n",
              "      <th>HHIncTen_Total</th>\n",
              "      <th>HHInc_10</th>\n",
              "      <th>HHInc_100</th>\n",
              "      <th>HHInc_125</th>\n",
              "      <th>HHInc_15</th>\n",
              "      <th>HHInc_150</th>\n",
              "      <th>HHInc_20</th>\n",
              "      <th>HHInc_200</th>\n",
              "      <th>HHInc_25</th>\n",
              "      <th>HHInc_250</th>\n",
              "      <th>HHInc_30</th>\n",
              "      <th>HHInc_35</th>\n",
              "      <th>HHInc_40</th>\n",
              "      <th>HHInc_45</th>\n",
              "      <th>...</th>\n",
              "      <th>laaian20share</th>\n",
              "      <th>laomultir20</th>\n",
              "      <th>laomultir20share</th>\n",
              "      <th>lahisp20</th>\n",
              "      <th>lahisp20share</th>\n",
              "      <th>lahunv20</th>\n",
              "      <th>lahunv20share</th>\n",
              "      <th>lasnap20</th>\n",
              "      <th>lasnap20share</th>\n",
              "      <th>TractLOWI</th>\n",
              "      <th>TractKids</th>\n",
              "      <th>TractSeniors</th>\n",
              "      <th>TractWhite</th>\n",
              "      <th>TractBlack</th>\n",
              "      <th>TractAsian</th>\n",
              "      <th>TractNHOPI</th>\n",
              "      <th>TractAIAN</th>\n",
              "      <th>TractOMultir</th>\n",
              "      <th>TractHispanic</th>\n",
              "      <th>TractHUNV</th>\n",
              "      <th>TractSNAP</th>\n",
              "      <th>white_ratio</th>\n",
              "      <th>black_ratio</th>\n",
              "      <th>asian_ratio</th>\n",
              "      <th>latinx_ratio</th>\n",
              "      <th>white_rent_ratio</th>\n",
              "      <th>black_rent_ratio</th>\n",
              "      <th>asian_rent_ratio</th>\n",
              "      <th>ai_ratio</th>\n",
              "      <th>nhpi_ratio</th>\n",
              "      <th>rb10</th>\n",
              "      <th>rb14.9</th>\n",
              "      <th>rb19.9</th>\n",
              "      <th>rb24.9</th>\n",
              "      <th>rb29.9</th>\n",
              "      <th>rb34.9</th>\n",
              "      <th>rb39.9</th>\n",
              "      <th>rb49.9</th>\n",
              "      <th>rb55</th>\n",
              "      <th>unemployed_rate</th>\n",
              "    </tr>\n",
              "  </thead>\n",
              "  <tbody>\n",
              "    <tr>\n",
              "      <th>0</th>\n",
              "      <td>Under 2%</td>\n",
              "      <td>6001400100</td>\n",
              "      <td>1150</td>\n",
              "      <td>10</td>\n",
              "      <td>87</td>\n",
              "      <td>0</td>\n",
              "      <td>132</td>\n",
              "      <td>713</td>\n",
              "      <td>43</td>\n",
              "      <td>22</td>\n",
              "      <td>55</td>\n",
              "      <td>0</td>\n",
              "      <td>26</td>\n",
              "      <td>62</td>\n",
              "      <td>143</td>\n",
              "      <td>0</td>\n",
              "      <td>16</td>\n",
              "      <td>7</td>\n",
              "      <td>0</td>\n",
              "      <td>93</td>\n",
              "      <td>0</td>\n",
              "      <td>0</td>\n",
              "      <td>9</td>\n",
              "      <td>0</td>\n",
              "      <td>0</td>\n",
              "      <td>18</td>\n",
              "      <td>1293</td>\n",
              "      <td>10</td>\n",
              "      <td>103</td>\n",
              "      <td>68</td>\n",
              "      <td>7</td>\n",
              "      <td>64</td>\n",
              "      <td>43</td>\n",
              "      <td>96</td>\n",
              "      <td>22</td>\n",
              "      <td>710</td>\n",
              "      <td>14</td>\n",
              "      <td>50</td>\n",
              "      <td>0</td>\n",
              "      <td>0</td>\n",
              "      <td>...</td>\n",
              "      <td>0.0</td>\n",
              "      <td>0.0</td>\n",
              "      <td>0.0</td>\n",
              "      <td>0.0</td>\n",
              "      <td>0.0</td>\n",
              "      <td>0.0</td>\n",
              "      <td>0.0</td>\n",
              "      <td>0.0</td>\n",
              "      <td>0.0</td>\n",
              "      <td>312.0</td>\n",
              "      <td>427.0</td>\n",
              "      <td>634.0</td>\n",
              "      <td>2161.0</td>\n",
              "      <td>142.0</td>\n",
              "      <td>456.0</td>\n",
              "      <td>9.0</td>\n",
              "      <td>4.0</td>\n",
              "      <td>165.0</td>\n",
              "      <td>117.0</td>\n",
              "      <td>28.0</td>\n",
              "      <td>0.0</td>\n",
              "      <td>0.742628</td>\n",
              "      <td>0.034295</td>\n",
              "      <td>0.125321</td>\n",
              "      <td>0.037821</td>\n",
              "      <td>0.129094</td>\n",
              "      <td>0.0</td>\n",
              "      <td>0.049451</td>\n",
              "      <td>0.0</td>\n",
              "      <td>0.0</td>\n",
              "      <td>0.293706</td>\n",
              "      <td>0.0</td>\n",
              "      <td>0.06993</td>\n",
              "      <td>0.286713</td>\n",
              "      <td>0.0</td>\n",
              "      <td>0.0</td>\n",
              "      <td>0.062937</td>\n",
              "      <td>0.062937</td>\n",
              "      <td>0.174825</td>\n",
              "      <td>0.05</td>\n",
              "    </tr>\n",
              "  </tbody>\n",
              "</table>\n",
              "<p>1 rows × 265 columns</p>\n",
              "</div>"
            ],
            "text/plain": [
              "  pred_ev_label       GEOID  HHIncTenOwn  ...    rb49.9      rb55  unemployed_rate\n",
              "0      Under 2%  6001400100         1150  ...  0.062937  0.174825             0.05\n",
              "\n",
              "[1 rows x 265 columns]"
            ]
          },
          "metadata": {
            "tags": []
          },
          "execution_count": 67
        }
      ]
    },
    {
      "cell_type": "code",
      "metadata": {
        "id": "nqkAT2UiPoI-"
      },
      "source": [
        "ca_with_preds = pd.merge(evrate_preds_ca, labeled_ca,  how='left', left_on=['GEOID'], right_on=['GEOID'])\n",
        "ca_with_preds.head(1)"
      ],
      "execution_count": null,
      "outputs": []
    },
    {
      "cell_type": "markdown",
      "metadata": {
        "id": "nm5TY1IWz151"
      },
      "source": [
        "## Plots of Evictions Rates in Training, Development, and Predicted data. "
      ]
    },
    {
      "cell_type": "code",
      "metadata": {
        "colab": {
          "base_uri": "https://localhost:8080/",
          "height": 280
        },
        "id": "Z2EeyJYBx-Dg",
        "outputId": "4dc215a7-d83b-4d30-9fef-23fb41276d06"
      },
      "source": [
        "# Plot of development data Eviction Rate\n",
        "fig = plt.figure()\n",
        "ax = plt.axes()\n",
        "\n",
        "indx = list(range(0, len(dev_ev_rate)))\n",
        "\n",
        "ax.plot(indx, dev_ev_rate, 'o')"
      ],
      "execution_count": null,
      "outputs": [
        {
          "output_type": "execute_result",
          "data": {
            "text/plain": [
              "[<matplotlib.lines.Line2D at 0x7f2afd8ca890>]"
            ]
          },
          "metadata": {
            "tags": []
          },
          "execution_count": 56
        },
        {
          "output_type": "display_data",
          "data": {
            "image/png": "[encoded data removed]",
            "text/plain": [
              "<Figure size 432x288 with 1 Axes>"
            ]
          },
          "metadata": {
            "tags": []
          }
        }
      ]
    },
    {
      "cell_type": "code",
      "metadata": {
        "colab": {
          "base_uri": "https://localhost:8080/",
          "height": 280
        },
        "id": "DdB03RcWxEFf",
        "outputId": "53c77489-e386-4d01-81ff-f00ff9aa5975"
      },
      "source": [
        "# Plot of training data Eviction Rate\n",
        "fig = plt.figure()\n",
        "ax = plt.axes()\n",
        "\n",
        "indx = list(range(0, len(train_ev_rate)))\n",
        "\n",
        "ax.plot(indx, train_ev_rate, 'o')"
      ],
      "execution_count": null,
      "outputs": [
        {
          "output_type": "execute_result",
          "data": {
            "text/plain": [
              "[<matplotlib.lines.Line2D at 0x7f2afda39c10>]"
            ]
          },
          "metadata": {
            "tags": []
          },
          "execution_count": 54
        },
        {
          "output_type": "display_data",
          "data": {
            "image/png": "[encoded data removed]",
            "text/plain": [
              "<Figure size 432x288 with 1 Axes>"
            ]
          },
          "metadata": {
            "tags": []
          }
        }
      ]
    },
    {
      "cell_type": "code",
      "metadata": {
        "colab": {
          "base_uri": "https://localhost:8080/",
          "height": 280
        },
        "id": "ADu9oECHwau1",
        "outputId": "868187f3-bcec-4442-bfe3-b8afdd811b73"
      },
      "source": [
        "# Plot of predictions from Linear Regression\n",
        "\n",
        "fig = plt.figure()\n",
        "ax = plt.axes()\n",
        "\n",
        "\n",
        "indx = list(range(0, len(lm_predict)))\n",
        "\n",
        "ax.plot(indx, lm_predict, 'o')"
      ],
      "execution_count": null,
      "outputs": [
        {
          "output_type": "execute_result",
          "data": {
            "text/plain": [
              "[<matplotlib.lines.Line2D at 0x7f2afd95e3d0>]"
            ]
          },
          "metadata": {
            "tags": []
          },
          "execution_count": 55
        },
        {
          "output_type": "display_data",
          "data": {
            "image/png": "[encoded data removed]",
            "text/plain": [
              "<Figure size 432x288 with 1 Axes>"
            ]
          },
          "metadata": {
            "tags": []
          }
        }
      ]
    },
    {
      "cell_type": "markdown",
      "metadata": {
        "id": "hTy1pIbA_UaT"
      },
      "source": [
        "# Test Area"
      ]
    },
    {
      "cell_type": "code",
      "metadata": {
        "colab": {
          "base_uri": "https://localhost:8080/",
          "height": 127
        },
        "id": "hLckUBzf1wSB",
        "outputId": "3ad979ae-59b4-401d-9453-9f766d318dfc"
      },
      "source": [
        "x = df.corr().tail(1)\n",
        "\n",
        "x.apply(pd.Series.nlargest, axis=1, n=100)"
      ],
      "execution_count": null,
      "outputs": [
        {
          "output_type": "execute_result",
          "data": {
            "text/html": [
              "<div>\n",
              "<style scoped>\n",
              "    .dataframe tbody tr th:only-of-type {\n",
              "        vertical-align: middle;\n",
              "    }\n",
              "\n",
              "    .dataframe tbody tr th {\n",
              "        vertical-align: top;\n",
              "    }\n",
              "\n",
              "    .dataframe thead th {\n",
              "        text-align: right;\n",
              "    }\n",
              "</style>\n",
              "<table border=\"1\" class=\"dataframe\">\n",
              "  <thead>\n",
              "    <tr style=\"text-align: right;\">\n",
              "      <th></th>\n",
              "      <th>ev_rate</th>\n",
              "      <th>Evictions_RR</th>\n",
              "      <th>Eviction_Filings_RR</th>\n",
              "      <th>CSMOKING_CrudePrev_x</th>\n",
              "      <th>OBESITY_CrudePrev_x</th>\n",
              "      <th>SLEEP_CrudePrev_x</th>\n",
              "      <th>BPHIGH_CrudePrev_x</th>\n",
              "      <th>COPD_CrudePrev_x</th>\n",
              "      <th>TEETHLOST_CrudePrev_x</th>\n",
              "      <th>TractFIPS</th>\n",
              "      <th>PlaceFIPS</th>\n",
              "      <th>MHLTH_CrudePrev_x</th>\n",
              "      <th>LPA_CrudePrev_x</th>\n",
              "      <th>STROKE_CrudePrev_x</th>\n",
              "      <th>DIABETES_CrudePrev_x</th>\n",
              "      <th>PHLTH_CrudePrev_x</th>\n",
              "      <th>ACCESS2_CrudePrev_x</th>\n",
              "      <th>CASTHMA_CrudePrev_x</th>\n",
              "      <th>ARTHRITIS_CrudePrev_x</th>\n",
              "      <th>CHD_CrudePrev_x</th>\n",
              "      <th>CHECKUP_CrudePrev_x</th>\n",
              "      <th>BPMED_CrudePrev_x</th>\n",
              "      <th>Evictions</th>\n",
              "      <th>HIGHCHOL_CrudePrev_x</th>\n",
              "      <th>KIDNEY_CrudePrev_x</th>\n",
              "      <th>rb55</th>\n",
              "      <th>Eviction_Filings</th>\n",
              "      <th>CSMOKING_CrudePrev_y</th>\n",
              "      <th>OBESITY_CrudePrev_y</th>\n",
              "      <th>SLEEP_CrudePrev_y</th>\n",
              "      <th>BPHIGH_CrudePrev_y</th>\n",
              "      <th>black_ratio</th>\n",
              "      <th>unemployed_rate</th>\n",
              "      <th>TEETHLOST_CrudePrev_y</th>\n",
              "      <th>rb49.9</th>\n",
              "      <th>ACCESS2_CrudePrev_y</th>\n",
              "      <th>COPD_CrudePrev_y</th>\n",
              "      <th>MHLTH_CrudePrev_y</th>\n",
              "      <th>STROKE_CrudePrev_y</th>\n",
              "      <th>DIABETES_CrudePrev_y</th>\n",
              "      <th>...</th>\n",
              "      <th>HHIncTenRent_25</th>\n",
              "      <th>HHIncTenRent_5</th>\n",
              "      <th>HHInc_10</th>\n",
              "      <th>HHInc_15</th>\n",
              "      <th>PropValue_200</th>\n",
              "      <th>welf</th>\n",
              "      <th>HHInc_20</th>\n",
              "      <th>rb34.9</th>\n",
              "      <th>HHInc_30</th>\n",
              "      <th>HHInc_25</th>\n",
              "      <th>HHInc_35</th>\n",
              "      <th>HHIncTenRent_50</th>\n",
              "      <th>ai_ratio</th>\n",
              "      <th>rb29.9</th>\n",
              "      <th>HHInc_40</th>\n",
              "      <th>CHOLSCREEN_CrudePrev_x</th>\n",
              "      <th>povnonfamh</th>\n",
              "      <th>HHIncTenOwn_10</th>\n",
              "      <th>nhpi_ratio</th>\n",
              "      <th>black_rent_ratio</th>\n",
              "      <th>rb_nc</th>\n",
              "      <th>white_rent_ratio</th>\n",
              "      <th>Rent_TWO</th>\n",
              "      <th>HHInc_45</th>\n",
              "      <th>HHIncTenOwn_15</th>\n",
              "      <th>Rent</th>\n",
              "      <th>HHIncTenRent</th>\n",
              "      <th>CHOLSCREEN_CrudePrev_y</th>\n",
              "      <th>latinx_ratio</th>\n",
              "      <th>COREM_CrudePrev_y</th>\n",
              "      <th>HHIncTenOwn_20</th>\n",
              "      <th>PropValue_300</th>\n",
              "      <th>MAMMOUSE_CrudePrev_y</th>\n",
              "      <th>COREW_CrudePrev_y</th>\n",
              "      <th>Total_TWO</th>\n",
              "      <th>HHInc_50</th>\n",
              "      <th>HHIncTenOwn_35</th>\n",
              "      <th>Rent_OTHER</th>\n",
              "      <th>colenroll</th>\n",
              "      <th>HHIncTenOwn_50</th>\n",
              "    </tr>\n",
              "  </thead>\n",
              "  <tbody>\n",
              "    <tr>\n",
              "      <th>ev_rate</th>\n",
              "      <td>1.0</td>\n",
              "      <td>0.674104</td>\n",
              "      <td>0.594556</td>\n",
              "      <td>0.431896</td>\n",
              "      <td>0.42093</td>\n",
              "      <td>0.411358</td>\n",
              "      <td>0.357761</td>\n",
              "      <td>0.346445</td>\n",
              "      <td>0.343608</td>\n",
              "      <td>0.335012</td>\n",
              "      <td>0.332833</td>\n",
              "      <td>0.310294</td>\n",
              "      <td>0.307736</td>\n",
              "      <td>0.298904</td>\n",
              "      <td>0.289531</td>\n",
              "      <td>0.288423</td>\n",
              "      <td>0.273882</td>\n",
              "      <td>0.266672</td>\n",
              "      <td>0.254836</td>\n",
              "      <td>0.206278</td>\n",
              "      <td>0.192187</td>\n",
              "      <td>0.190569</td>\n",
              "      <td>0.158811</td>\n",
              "      <td>0.145525</td>\n",
              "      <td>0.145051</td>\n",
              "      <td>0.143422</td>\n",
              "      <td>0.128858</td>\n",
              "      <td>0.112237</td>\n",
              "      <td>0.106697</td>\n",
              "      <td>0.105316</td>\n",
              "      <td>0.100265</td>\n",
              "      <td>0.09432</td>\n",
              "      <td>0.087759</td>\n",
              "      <td>0.084056</td>\n",
              "      <td>0.081544</td>\n",
              "      <td>0.077697</td>\n",
              "      <td>0.077427</td>\n",
              "      <td>0.075558</td>\n",
              "      <td>0.074632</td>\n",
              "      <td>0.067898</td>\n",
              "      <td>...</td>\n",
              "      <td>0.016944</td>\n",
              "      <td>0.014073</td>\n",
              "      <td>0.012988</td>\n",
              "      <td>0.011457</td>\n",
              "      <td>0.010422</td>\n",
              "      <td>0.010314</td>\n",
              "      <td>0.010071</td>\n",
              "      <td>0.008539</td>\n",
              "      <td>0.00767</td>\n",
              "      <td>0.004189</td>\n",
              "      <td>0.003558</td>\n",
              "      <td>0.002664</td>\n",
              "      <td>-0.000056</td>\n",
              "      <td>-0.000696</td>\n",
              "      <td>-0.002197</td>\n",
              "      <td>-0.002488</td>\n",
              "      <td>-0.003768</td>\n",
              "      <td>-0.004132</td>\n",
              "      <td>-0.004212</td>\n",
              "      <td>-0.004451</td>\n",
              "      <td>-0.004921</td>\n",
              "      <td>-0.005373</td>\n",
              "      <td>-0.005677</td>\n",
              "      <td>-0.006836</td>\n",
              "      <td>-0.007279</td>\n",
              "      <td>-0.008199</td>\n",
              "      <td>-0.008199</td>\n",
              "      <td>-0.008969</td>\n",
              "      <td>-0.009112</td>\n",
              "      <td>-0.009115</td>\n",
              "      <td>-0.010485</td>\n",
              "      <td>-0.012327</td>\n",
              "      <td>-0.012344</td>\n",
              "      <td>-0.012468</td>\n",
              "      <td>-0.012661</td>\n",
              "      <td>-0.012717</td>\n",
              "      <td>-0.012904</td>\n",
              "      <td>-0.013386</td>\n",
              "      <td>-0.014449</td>\n",
              "      <td>-0.014857</td>\n",
              "    </tr>\n",
              "  </tbody>\n",
              "</table>\n",
              "<p>1 rows × 100 columns</p>\n",
              "</div>"
            ],
            "text/plain": [
              "         ev_rate  Evictions_RR  ...  colenroll  HHIncTenOwn_50\n",
              "ev_rate      1.0      0.674104  ...  -0.014449       -0.014857\n",
              "\n",
              "[1 rows x 100 columns]"
            ]
          },
          "metadata": {
            "tags": []
          },
          "execution_count": 112
        }
      ]
    },
    {
      "cell_type": "code",
      "metadata": {
        "colab": {
          "base_uri": "https://localhost:8080/"
        },
        "id": "BHO0How0_cQu",
        "outputId": "e04b85f6-8054-4509-e041-b5918792f0b5"
      },
      "source": [
        "high_corr_feat = ['CSMOKING_CrudePrev_x','OBESITY_CrudePrev_x', 'SLEEP_CrudePrev_x', 'BPHIGH_CrudePrev_x', 'COPD_CrudePrev_x', 'TEETHLOST_CrudePrev_x']\n",
        "# Train a model with features we also have for CA\n",
        "lr = LogisticRegression(C= 1 , solver=\"lbfgs\", multi_class=\"auto\", max_iter = 1000).fit(train_features[high_corr_feat], train_labels)\n",
        "lr_predict = lr.predict(dev_features[high_corr_feat])\n",
        "lr_score =  metrics.f1_score(lr_predict,dev_labels,average=\"weighted\")\n",
        "lr_score"
      ],
      "execution_count": null,
      "outputs": [
        {
          "output_type": "execute_result",
          "data": {
            "text/plain": [
              "0.5166999510543957"
            ]
          },
          "metadata": {
            "tags": []
          },
          "execution_count": 114
        }
      ]
    },
    {
      "cell_type": "code",
      "metadata": {
        "colab": {
          "base_uri": "https://localhost:8080/"
        },
        "id": "eSLa3J-vAMlu",
        "outputId": "16eb6a9f-16de-49a8-90ab-12865d71ad82"
      },
      "source": [
        "train_features.columns"
      ],
      "execution_count": null,
      "outputs": [
        {
          "output_type": "execute_result",
          "data": {
            "text/plain": [
              "Index(['GEOID', 'HHIncTenOwn', 'HHIncTenOwn_10', 'HHIncTenOwn_100',\n",
              "       'HHIncTenOwn_15', 'HHIncTenOwn_150', 'HHIncTenOwn_151',\n",
              "       'HHIncTenOwn_20', 'HHIncTenOwn_25', 'HHIncTenOwn_35',\n",
              "       ...\n",
              "       'rb10', 'rb14.9', 'rb19.9', 'rb24.9', 'rb29.9', 'rb34.9', 'rb39.9',\n",
              "       'rb49.9', 'rb55', 'unemployed_rate'],\n",
              "      dtype='object', length=264)"
            ]
          },
          "metadata": {
            "tags": []
          },
          "execution_count": 92
        }
      ]
    },
    {
      "cell_type": "code",
      "metadata": {
        "colab": {
          "base_uri": "https://localhost:8080/"
        },
        "id": "l6PYim7D2iQt",
        "outputId": "da38ac3c-91d0-4465-f59f-04e90bbe67bd"
      },
      "source": [
        "unlabeled_data.columns"
      ],
      "execution_count": null,
      "outputs": [
        {
          "output_type": "execute_result",
          "data": {
            "text/plain": [
              "Index(['GEOID', 'HHIncTenOwn', 'HHIncTenOwn_10', 'HHIncTenOwn_100',\n",
              "       'HHIncTenOwn_15', 'HHIncTenOwn_150', 'HHIncTenOwn_151',\n",
              "       'HHIncTenOwn_20', 'HHIncTenOwn_25', 'HHIncTenOwn_35',\n",
              "       ...\n",
              "       'rb10', 'rb14.9', 'rb19.9', 'rb24.9', 'rb29.9', 'rb34.9', 'rb39.9',\n",
              "       'rb49.9', 'rb55', 'unemployed_rate'],\n",
              "      dtype='object', length=264)"
            ]
          },
          "metadata": {
            "tags": []
          },
          "execution_count": 93
        }
      ]
    }
  ]
}